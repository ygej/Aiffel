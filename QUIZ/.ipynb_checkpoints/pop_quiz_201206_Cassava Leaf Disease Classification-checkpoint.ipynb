{
 "cells": [
  {
   "cell_type": "markdown",
   "metadata": {},
   "source": [
    "# 🌿Cassava Leaf Disease Classification\n",
    "\n",
    "---\n",
    "#### Overview\n",
    "*  In Africa cassava is a key food but viral diseases are major sources of poor yields. With the help of data science, it may be possible to identify common diseases so they can be treated.\n",
    "\n",
    "\n",
    "<img src=https://www.healthbenefitstimes.com/9/uploads/2016/03/Cassava-Leaf.png width=\"300\">\n",
    "\n",
    "\n",
    "* In this competition, we introduce a dataset of 21,367 labeled images\n",
    "* Your task is to classify each cassava image into four disease categories or a fifth category indicating a healthy leaf.\n",
    "---\n",
    "#### Data\n",
    "\n",
    "[train/test]_images the image files. The full set of test images will only be available to your notebook when it is submitted for scoring. Expect to see roughly 15,000 images in the test set.\n",
    "\n",
    "\n",
    "\n",
    "##### train.csv\n",
    "\n",
    "* __image_id__ : the image file name.\n",
    "* __label__ : the ID code for the disease.\n",
    "\n",
    "##### sample_submission.csv \n",
    "A properly formatted sample submission, given the disclosed test set content.\n",
    "\n",
    "* __image_id__ :  the image file name.\n",
    "* __label__ : the predicted ID code for the disease.\n",
    "\n",
    "\n",
    "\n",
    "[train/test]_tfrecords the image files in tfrecord format.\n",
    "\n",
    "\n",
    "label_num_to_disease_map.json The mapping between each disease code and the real disease name.\n",
    "\n",
    "---\n",
    "#### Evaluation\n",
    "Submissions will be evaluated based on their [categorization accuracy](https://developers.google.com/machine-learning/crash-course/classification/accuracy).\n",
    "<img src=https://t1.daumcdn.net/cfile/tistory/99DC064C5BE056CE10  width=\"300\">\n",
    "\n",
    "---\n",
    "\n",
    "[Competition Link](https://www.kaggle.com/c/cassava-leaf-disease-classification/overview/timeline)"
   ]
  },
  {
   "cell_type": "code",
   "execution_count": 1,
   "metadata": {},
   "outputs": [],
   "source": []
  },
  {
   "cell_type": "code",
   "execution_count": null,
   "metadata": {},
   "outputs": [],
   "source": []
  }
 ],
 "metadata": {
  "kernelspec": {
   "display_name": "Python 3",
   "language": "python",
   "name": "python3"
  },
  "language_info": {
   "codemirror_mode": {
    "name": "ipython",
    "version": 3
   },
   "file_extension": ".py",
   "mimetype": "text/x-python",
   "name": "python",
   "nbconvert_exporter": "python",
   "pygments_lexer": "ipython3",
   "version": "3.7.4"
  }
 },
 "nbformat": 4,
 "nbformat_minor": 2
}
