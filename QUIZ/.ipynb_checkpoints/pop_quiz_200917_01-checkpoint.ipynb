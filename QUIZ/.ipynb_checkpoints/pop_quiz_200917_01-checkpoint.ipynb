{
 "cells": [
  {
   "cell_type": "markdown",
   "metadata": {},
   "source": [
    "# 깜퀴_20200917_01"
   ]
  },
  {
   "cell_type": "markdown",
   "metadata": {},
   "source": [
    "# 문제 1\n",
    "[시저 암호](https://programmers.co.kr/learn/courses/30/lessons/12926)"
   ]
  },
  {
   "cell_type": "code",
   "execution_count": 24,
   "metadata": {},
   "outputs": [
    {
     "data": {
      "text/plain": [
       "'e F d'"
      ]
     },
     "execution_count": 24,
     "metadata": {},
     "output_type": "execute_result"
    }
   ],
   "source": [
    "s = 'a B z'\n",
    "n =  4\n",
    "def solution(s, n):\n",
    "    \n",
    "    up_list = 'ABCDEFGHIJKLMNOPQRSTUVWXYZ'\n",
    "    low_list = 'abcdefghijklmnopqrstuvwxyz'\n",
    "    \n",
    "    answer = []\n",
    "    s = list(s)\n",
    "    \n",
    "    for i in range(len(s)):\n",
    "        if s[i] in up_list:\n",
    "            num = up_list.find(s[i])+n\n",
    "            answer.append(up_list[num%26])\n",
    "        elif s[i] in low_list:\n",
    "            num = low_list.find(s[i])+n\n",
    "            answer.append(low_list[num%26])\n",
    "        elif s[i] == ' ':\n",
    "            answer.append(' ')\n",
    "            \n",
    "        \n",
    "    return ''.join(answer)\n",
    "solution(s, n)"
   ]
  },
  {
   "cell_type": "code",
   "execution_count": null,
   "metadata": {},
   "outputs": [],
   "source": []
  }
 ],
 "metadata": {
  "kernelspec": {
   "display_name": "Python 3",
   "language": "python",
   "name": "python3"
  },
  "language_info": {
   "codemirror_mode": {
    "name": "ipython",
    "version": 3
   },
   "file_extension": ".py",
   "mimetype": "text/x-python",
   "name": "python",
   "nbconvert_exporter": "python",
   "pygments_lexer": "ipython3",
   "version": "3.7.6"
  }
 },
 "nbformat": 4,
 "nbformat_minor": 4
}
