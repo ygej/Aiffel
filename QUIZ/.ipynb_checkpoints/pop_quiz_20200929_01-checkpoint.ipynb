{
 "cells": [
  {
   "cell_type": "markdown",
   "metadata": {},
   "source": [
    "# 깜퀴_20200929_01"
   ]
  },
  {
   "cell_type": "markdown",
   "metadata": {},
   "source": [
    "# 문제 1\n",
    "메이플스토리 능력치 뽑기 주사위 만들기\n",
    "\n",
    "![메이플 스토리 능력치 주사위](https://images.app.goo.gl/sZyoAhaj75UspgCCA)"
   ]
  },
  {
   "cell_type": "code",
   "execution_count": 74,
   "metadata": {},
   "outputs": [],
   "source": [
    "from random import randrange\n",
    "\n",
    "class MapleDice:\n",
    "    def __init__(self, job = None):\n",
    "        self.stat_list = [i for i in range(0,4)]\n",
    "        self.options = randrange(4,13)\n",
    "        self.job = job\n",
    "        \n",
    "    def throw(self):\n",
    "        stat_list = []\n",
    "        for i in [i for i in range(0,4)]:\n",
    "            if i == 0:\n",
    "                i = randrange(4,13)\n",
    "            elif i == 1 and stat_list[0] > 4 :\n",
    "                i = randrange(4,18-(stat_list[0]))\n",
    "            elif i == 2 and sum(stat_list) > 8:\n",
    "                i = randrange(4, 22 - sum(stat_list))\n",
    "            elif i == 2 and sum(stat_list) < 9:\n",
    "                i = randrange(5, 13)\n",
    "            elif i == 3:\n",
    "                i = 25 - sum(stat_list)\n",
    "            else:\n",
    "                i = randrange(4,13)\n",
    "            stat_list.append(i)\n",
    "        print(\"나의 캐릭터 스탯 \\nSTR:{0}, INT:{1}, DEX:{2}, LUK:{3}\".format(stat_list[0],stat_list[1],stat_list[2],stat_list[3]))\n",
    "    \n",
    "    def auto_mouse(self, job = None):\n",
    "        self.job = job\n",
    "        if self.job > 4 or self.job < 0:\n",
    "            print(\"숫자를 다시 입력하세요. \\n 전사 = 0, 법사 = 1, 궁수 = 2, 도적 = 3\")\n",
    "            \n",
    "        # 전사 & 궁수\n",
    "        if self.job == 0 or self.job == 2:\n",
    "            count = 0\n",
    "            while True:\n",
    "                stat_list = []\n",
    "                for i in [i for i in range(0,4)]:\n",
    "                    if i == 0:\n",
    "                        i = randrange(4,13)\n",
    "                    elif i == 1 and stat_list[0] > 4 :\n",
    "                        i = randrange(4,18-(stat_list[0]))\n",
    "                    elif i == 2 and sum(stat_list) > 8:\n",
    "                        i = randrange(4, 22 - sum(stat_list))\n",
    "                    elif i == 2 and sum(stat_list) < 9:\n",
    "                        i = randrange(5, 13)\n",
    "                    elif i == 3:\n",
    "                        i = 25 - sum(stat_list)\n",
    "                    else:\n",
    "                        i = randrange(4,13)\n",
    "                    stat_list.append(i)\n",
    "                \n",
    "                if stat_list[1] == 4 and stat_list[3] == 4:\n",
    "                    break\n",
    "                count += 1\n",
    "                \n",
    "        # 법사\n",
    "        if self.job == 1:\n",
    "            count = 0\n",
    "            while True:\n",
    "                stat_list = []\n",
    "                for i in [i for i in range(0,4)]:\n",
    "                    if i == 0:\n",
    "                        i = randrange(4,13)\n",
    "                    elif i == 1 and stat_list[0] > 4 :\n",
    "                        i = randrange(4,18-(stat_list[0]))\n",
    "                    elif i == 2 and sum(stat_list) > 8:\n",
    "                        i = randrange(4, 22 - sum(stat_list))\n",
    "                    elif i == 2 and sum(stat_list) < 9:\n",
    "                        i = randrange(5, 13)\n",
    "                    elif i == 3:\n",
    "                        i = 25 - sum(stat_list)\n",
    "                    else:\n",
    "                        i = randrange(4,13)\n",
    "                    stat_list.append(i)\n",
    "                \n",
    "                if stat_list[0] == 4 and stat_list[2] == 4:\n",
    "                    break\n",
    "                count += 1\n",
    "                \n",
    "        # 도적\n",
    "        if self.job == 3:\n",
    "            count = 0\n",
    "            while True:\n",
    "                stat_list = []\n",
    "                for i in [i for i in range(0,4)]:\n",
    "                    if i == 0:\n",
    "                        i = randrange(4,13)\n",
    "                    elif i == 1 and stat_list[0] > 4 :\n",
    "                        i = randrange(4,18-(stat_list[0]))\n",
    "                    elif i == 2 and sum(stat_list) > 8:\n",
    "                        i = randrange(4, 22 - sum(stat_list))\n",
    "                    elif i == 2 and sum(stat_list) < 9:\n",
    "                        i = randrange(5, 13)\n",
    "                    elif i == 3:\n",
    "                        i = 25 - sum(stat_list)\n",
    "                    else:\n",
    "                        i = randrange(4,13)\n",
    "                    stat_list.append(i)\n",
    "                \n",
    "                if stat_list[0] == 4 and stat_list[1] == 4:\n",
    "                    break\n",
    "                count += 1\n",
    "                   \n",
    "                \n",
    "        print(\"오토마우스 결과\\n나의 캐릭터 스탯\\nSTR:{0}, INT:{1}, DEX:{2}, LUK:{3}\\n{4}번 만에 성공했습니다!\".format(stat_list[0],stat_list[1],stat_list[2],stat_list[3],count))"
   ]
  },
  {
   "cell_type": "code",
   "execution_count": 75,
   "metadata": {
    "scrolled": false
   },
   "outputs": [
    {
     "name": "stdout",
     "output_type": "stream",
     "text": [
      "나의 캐릭터 스탯 \n",
      "STR:12, INT:5, DEX:4, LUK:4\n"
     ]
    }
   ],
   "source": [
    "my_stat = MapleDice()\n",
    "my_stat.throw()"
   ]
  },
  {
   "cell_type": "code",
   "execution_count": 76,
   "metadata": {},
   "outputs": [
    {
     "name": "stdout",
     "output_type": "stream",
     "text": [
      "오토마우스 결과\n",
      "나의 캐릭터 스탯\n",
      "STR:4, INT:4, DEX:5, LUK:12\n",
      "85번 만에 성공했습니다!\n"
     ]
    }
   ],
   "source": [
    "my_stat.auto_mouse(3)"
   ]
  }
 ],
 "metadata": {
  "kernelspec": {
   "display_name": "Python 3",
   "language": "python",
   "name": "python3"
  },
  "language_info": {
   "codemirror_mode": {
    "name": "ipython",
    "version": 3
   },
   "file_extension": ".py",
   "mimetype": "text/x-python",
   "name": "python",
   "nbconvert_exporter": "python",
   "pygments_lexer": "ipython3",
   "version": "3.7.6"
  }
 },
 "nbformat": 4,
 "nbformat_minor": 4
}
