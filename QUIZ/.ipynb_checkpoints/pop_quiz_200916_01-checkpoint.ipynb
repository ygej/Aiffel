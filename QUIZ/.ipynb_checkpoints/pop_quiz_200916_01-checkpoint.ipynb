{
 "cells": [
  {
   "cell_type": "markdown",
   "metadata": {},
   "source": [
    "# 깜퀴_20200916_01"
   ]
  },
  {
   "cell_type": "markdown",
   "metadata": {},
   "source": [
    "# 문제 1\n",
    "[크레인 인형뽑기 게임](https://programmers.co.kr/learn/courses/30/lessons/64061)"
   ]
  },
  {
   "cell_type": "code",
   "execution_count": 14,
   "metadata": {},
   "outputs": [
    {
     "data": {
      "text/plain": [
       "4"
      ]
     },
     "execution_count": 14,
     "metadata": {},
     "output_type": "execute_result"
    }
   ],
   "source": [
    "board = [[0,0,0,0,0],[0,0,1,0,3],[0,2,5,0,1],[4,2,4,4,2],[3,5,1,3,1]]\n",
    "moves = [1,5,3,5,1,2,1,4]\n",
    "\n",
    "def solution(board, moves):\n",
    "    # 인형 바구니\n",
    "    r = [] \n",
    "    \n",
    "    # 사라진 인형 수\n",
    "    count = []\n",
    "    \n",
    "    # 크레인으로 인형뽑기\n",
    "    for i in moves:\n",
    "        for j in range((len(board))):\n",
    "            if board[j][i-1] != 0:\n",
    "                r.append(board[j][i-1])\n",
    "                board[j][i-1] = 0\n",
    "                break\n",
    "    \n",
    "    # 인형 바구니에 인형 터뜨리기\n",
    "    n = 100\n",
    "    while True:\n",
    "        for i in range(len(r)):\n",
    "            if r[i:i+1] == r[i+1:i+2]:\n",
    "                count.append(r[i:i+2])\n",
    "                del r[i:i+2]\n",
    "            else:\n",
    "                pass\n",
    "        if n == 0:\n",
    "            break\n",
    "        n -= 1\n",
    "                \n",
    "    answer = len(list(filter(None, count)))*2\n",
    "    return answer\n",
    "solution(board, moves)"
   ]
  }
 ],
 "metadata": {
  "kernelspec": {
   "display_name": "Python 3",
   "language": "python",
   "name": "python3"
  },
  "language_info": {
   "codemirror_mode": {
    "name": "ipython",
    "version": 3
   },
   "file_extension": ".py",
   "mimetype": "text/x-python",
   "name": "python",
   "nbconvert_exporter": "python",
   "pygments_lexer": "ipython3",
   "version": "3.7.6"
  }
 },
 "nbformat": 4,
 "nbformat_minor": 4
}
