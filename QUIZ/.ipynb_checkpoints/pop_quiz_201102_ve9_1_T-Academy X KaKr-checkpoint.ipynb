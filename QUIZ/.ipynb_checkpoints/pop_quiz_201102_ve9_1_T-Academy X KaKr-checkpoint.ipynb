{
 "cells": [
  {
   "cell_type": "markdown",
   "metadata": {},
   "source": [
    "# [T-Academy X KaKr] 성인 인구조사 소득 예측 대회"
   ]
  },
  {
   "cell_type": "markdown",
   "metadata": {},
   "source": [
    "## 목적\n",
    " - 1994년 미국 성인을 대상으로 한 조사를 통해 연소득이 $50,000 이 넘는지 안 넘는지 구분하기"
   ]
  },
  {
   "cell_type": "markdown",
   "metadata": {},
   "source": [
    "# Setting"
   ]
  },
  {
   "cell_type": "code",
   "execution_count": null,
   "metadata": {},
   "outputs": [],
   "source": [
    "# t"
   ]
  },
  {
   "cell_type": "code",
   "execution_count": null,
   "metadata": {},
   "outputs": [],
   "source": [
    "import pandas as pd\n",
    "import pandas_profiling\n",
    "import numpy as np\n",
    "import seaborn as sns\n",
    "import matplotlib.pyplot as plt\n",
    "pd.options.display.max_rows=150\n",
    "%matplotlib inline\n",
    "\n",
    "import os\n",
    "for dirname, _, filenames in os.walk('/kaggle/input'):\n",
    "    for filename in filenames:\n",
    "        print(os.path.join(dirname, filename))\n",
    "        \n",
    "# import os\n",
    "# os.listdir('../input/')"
   ]
  },
  {
   "cell_type": "code",
   "execution_count": null,
   "metadata": {},
   "outputs": [],
   "source": [
    "path = '/kaggle/input/kakr-4th-competition/'\n",
    "\n",
    "df = pd.read_csv(path + 'train.csv')\n",
    "df_t = pd.read_csv(path + 'test.csv')\n",
    "submission = pd.read_csv(path + 'sample_submission.csv')\n",
    "\n",
    "print(df.shape)\n",
    "print(df_t.shape)"
   ]
  },
  {
   "cell_type": "code",
   "execution_count": null,
   "metadata": {},
   "outputs": [],
   "source": [
    "df.info()"
   ]
  },
  {
   "cell_type": "markdown",
   "metadata": {},
   "source": [
    "# Data Processing (step.01)"
   ]
  },
  {
   "cell_type": "code",
   "execution_count": null,
   "metadata": {},
   "outputs": [],
   "source": [
    "# education 컬럼은 education_num과 1대1 매칭 >> education 컬럼 제외\n",
    "# df['education'].value_counts().values - df['education_num'].value_counts().values\n",
    "df = df.drop('education', axis = 1)\n",
    "\n",
    "# income column >> 50K 기준으로 대소 비교 변수 파생 (True/False)\n",
    "df['is_income_over_50K'] = df['income']=='>50K'\n",
    "\n",
    "print(df.shape);  df.head(2)"
   ]
  },
  {
   "cell_type": "code",
   "execution_count": null,
   "metadata": {},
   "outputs": [],
   "source": [
    "# # fnlwgt 컬럼은 사후 층화 가중치로서, 한 표본이 몇 개를 대표하는지 의미.\n",
    "# # 'https://m.blog.naver.com/stat833/221747335785'\n",
    "# df_fnlwgt = df.head(5)\n",
    "# df_fnlwgt.drop(df_fnlwgt.index[0], inplace = True)\n",
    "# df_fnlwgt"
   ]
  },
  {
   "cell_type": "markdown",
   "metadata": {},
   "source": [
    "###  one-hot 인코딩"
   ]
  },
  {
   "cell_type": "code",
   "execution_count": null,
   "metadata": {},
   "outputs": [],
   "source": [
    "## train data\n",
    "\n",
    "from sklearn.ensemble import RandomForestRegressor\n",
    "from sklearn.preprocessing import LabelEncoder\n",
    "\n",
    "dtypes = df.dtypes\n",
    "encoders = {}\n",
    "for column in df.columns:\n",
    "    if str(dtypes[column]) == 'object':\n",
    "        encoder = LabelEncoder()\n",
    "        encoder.fit(df[column])\n",
    "        encoders[column] = encoder\n",
    "df_num = df.copy()\n",
    "\n",
    "for column in encoders.keys():\n",
    "    encoder = encoders[column]\n",
    "    df_num[column] = encoder.transform(df[column])\n",
    "    \n",
    "print(df_num.shape)\n",
    "df_num.tail(3)"
   ]
  },
  {
   "cell_type": "code",
   "execution_count": null,
   "metadata": {},
   "outputs": [],
   "source": [
    "## test data\n",
    "\n",
    "dtypes = df_t.dtypes\n",
    "encoders = {}\n",
    "for column in df_t.columns:\n",
    "    if str(dtypes[column]) == 'object':\n",
    "        encoder = LabelEncoder()\n",
    "        encoder.fit(df_t[column])\n",
    "        encoders[column] = encoder\n",
    "df_num_t = df_t.copy()\n",
    "\n",
    "for column in encoders.keys():\n",
    "    encoder = encoders[column]\n",
    "    df_num_t[column] = encoder.transform(df_t[column])\n",
    "    \n",
    "print(df_num_t.shape)\n",
    "df_num_t.tail(3)"
   ]
  },
  {
   "cell_type": "code",
   "execution_count": null,
   "metadata": {},
   "outputs": [],
   "source": [
    "# 상관관계 heatmap\n",
    "\n",
    "plt.figure(figsize=(10,10))\n",
    "sns.heatmap(data = df_num.corr(), annot=True, \n",
    "fmt = '.2f', linewidths=.5, cmap='Blues')\n",
    "\n",
    "# age, education_num, marital_status, relationship, sex, capital_gain, capital_loss, hours_per_week 가 연관있어 보인다."
   ]
  },
  {
   "cell_type": "markdown",
   "metadata": {},
   "source": [
    "# Data Processing (step.02)"
   ]
  },
  {
   "cell_type": "markdown",
   "metadata": {},
   "source": [
    "### Capital_gain & Capital_loss"
   ]
  },
  {
   "cell_type": "code",
   "execution_count": null,
   "metadata": {},
   "outputs": [],
   "source": [
    "# train\n",
    "df['capital_gain_bool'] = df['capital_gain'] > 0\n",
    "df['capital_loss_bool'] = df['capital_loss'] > 0\n",
    "print(df.shape);  \n",
    "display(df[['capital_loss', 'capital_loss_bool']].head())\n",
    "\n",
    "# test\n",
    "df_t['capital_gain_bool'] = df_t['capital_gain'] > 0\n",
    "df_t['capital_loss_bool'] = df_t['capital_loss'] > 0\n",
    "print(df_t.shape)\n",
    "display(df_t[['capital_loss', 'capital_loss_bool']].head())"
   ]
  },
  {
   "cell_type": "markdown",
   "metadata": {},
   "source": [
    "# EDA (step.03)"
   ]
  },
  {
   "cell_type": "markdown",
   "metadata": {},
   "source": [
    "## 03-1. sex + marital_status + education_num"
   ]
  },
  {
   "cell_type": "code",
   "execution_count": null,
   "metadata": {},
   "outputs": [],
   "source": [
    "# 3. 남성이면서, 기혼자면서, 14년 이상 공부한 사람들\n",
    "df['Male_married_14y_edu'] =  (df['sex'] == 'Male') & (df['marital_status'] == 'Married-civ-spouse') & (df['education_num'] >= 14)\n",
    "print(df.shape)\n",
    "df[['sex', 'marital_status','education_num','Male_married_14y_edu']].head()"
   ]
  },
  {
   "cell_type": "code",
   "execution_count": null,
   "metadata": {},
   "outputs": [],
   "source": [
    "# test\n",
    "df_t['Male_married_14y_edu'] =  (df_t['sex'] == 'Male') & (df_t['marital_status'] == 'Married-civ-spouse') & (df_t['education_num'] >= 14)\n",
    "print(df.shape)\n",
    "df_t[['sex', 'marital_status','education_num','Male_married_14y_edu']].head()"
   ]
  },
  {
   "cell_type": "code",
   "execution_count": null,
   "metadata": {},
   "outputs": [],
   "source": [
    "# 1,235 명 중 968명이 연 소득 5만 달러 이상입니다.\n",
    "df[['Male_married_14y_edu','is_income_over_50K']].value_counts()"
   ]
  },
  {
   "cell_type": "markdown",
   "metadata": {},
   "source": [
    "## 03-2. occupation + marital_status + workclass"
   ]
  },
  {
   "cell_type": "code",
   "execution_count": null,
   "metadata": {},
   "outputs": [],
   "source": [
    "# occupation\n",
    "df['ceo_prof_m'] = ((df['occupation'] == 'Exec-managerial') | (df['occupation'] == 'Prof-specialty')) & (df['marital_status'] == 'Married-civ-spouse')\n",
    "print(df.shape)\n",
    "df[['occupation', 'marital_status', 'ceo_prof_m']].head()"
   ]
  },
  {
   "cell_type": "code",
   "execution_count": null,
   "metadata": {},
   "outputs": [],
   "source": [
    "# test\n",
    "df_t['ceo_prof_m'] = ((df_t['occupation'] == 'Exec-managerial') | (df_t['occupation'] == 'Prof-specialty')) & (df_t['marital_status'] == 'Married-civ-spouse')\n",
    "print(df_t.shape)\n",
    "df_t[['occupation', 'marital_status', 'ceo_prof_m']].head()"
   ]
  },
  {
   "cell_type": "code",
   "execution_count": null,
   "metadata": {},
   "outputs": [],
   "source": [
    "df[['ceo_prof_m','is_income_over_50K']].value_counts()"
   ]
  },
  {
   "cell_type": "markdown",
   "metadata": {},
   "source": [
    "# PREPROCESSING (step.04)"
   ]
  },
  {
   "cell_type": "code",
   "execution_count": null,
   "metadata": {},
   "outputs": [],
   "source": [
    "# 1 age\n",
    "# 나이를 구간화(Binning) 합니다.\n",
    "df['age_bin'] = pd.qcut(df['age'], 10, labels = False)\n",
    "\n",
    "print(df.shape)\n",
    "df[['age', 'age_bin']]"
   ]
  },
  {
   "cell_type": "code",
   "execution_count": null,
   "metadata": {},
   "outputs": [],
   "source": [
    "# test\n",
    "df_t['age_bin'] = pd.qcut(df_t['age'], 10, labels = False)\n",
    "\n",
    "print(df_t.shape)\n",
    "df_t[['age', 'age_bin']]"
   ]
  },
  {
   "cell_type": "code",
   "execution_count": null,
   "metadata": {},
   "outputs": [],
   "source": [
    "# 2. hours_per_week:\n",
    "# 정규화\n",
    "df['hours_per_week_log'] = np.log(df['hours_per_week'] + 1)\n",
    "\n",
    "# test\n",
    "df_t['hours_per_week_log'] = np.log(df_t['hours_per_week'] + 1)"
   ]
  },
  {
   "cell_type": "code",
   "execution_count": null,
   "metadata": {},
   "outputs": [],
   "source": [
    "figure, (ax1, ax2) = plt.subplots(nrows=1, ncols=2)\n",
    "figure.set_size_inches(18, 4)\n",
    "\n",
    "\n",
    "sns.distplot(df[\"hours_per_week\"], ax=ax1)\n",
    "sns.distplot(df[\"hours_per_week_log\"], ax=ax2)"
   ]
  },
  {
   "cell_type": "code",
   "execution_count": null,
   "metadata": {},
   "outputs": [],
   "source": [
    "from sklearn.ensemble import RandomForestRegressor\n",
    "from sklearn.preprocessing import LabelEncoder\n",
    "# one hot 인코딩\n",
    "\n",
    "dtypes = df.dtypes\n",
    "encoders = {}\n",
    "for column in df.columns:\n",
    "    if str(dtypes[column]) == 'object':\n",
    "        encoder = LabelEncoder()\n",
    "        encoder.fit(df[column])\n",
    "        encoders[column] = encoder\n",
    "df_num = df.copy()\n",
    "\n",
    "for column in encoders.keys():\n",
    "    encoder = encoders[column]\n",
    "    df_num[column] = encoder.transform(df[column])\n",
    "    \n",
    "print(df_num.shape)\n",
    "df_num.tail(10)"
   ]
  },
  {
   "cell_type": "code",
   "execution_count": null,
   "metadata": {},
   "outputs": [],
   "source": [
    "# test one hot 인코딩\n",
    "\n",
    "dtypes = df_t.dtypes\n",
    "encoders = {}\n",
    "for column in df_t.columns:\n",
    "    if str(dtypes[column]) == 'object':\n",
    "        encoder = LabelEncoder()\n",
    "        encoder.fit(df_t[column])\n",
    "        encoders[column] = encoder\n",
    "df_num_t = df_t.copy()\n",
    "\n",
    "for column in encoders.keys():\n",
    "    encoder = encoders[column]\n",
    "    df_num_t[column] = encoder.transform(df_t[column])\n",
    "    \n",
    "print(df_num_t.shape)\n",
    "df_num_t.tail(10)"
   ]
  },
  {
   "cell_type": "markdown",
   "metadata": {},
   "source": [
    "# Feature Engineering (step.05)"
   ]
  },
  {
   "cell_type": "code",
   "execution_count": null,
   "metadata": {},
   "outputs": [],
   "source": [
    "# encode\n",
    "to_encode = ['workclass', 'marital_status',\n",
    "             'occupation', 'relationship', 'race', 'sex', 'native_country']\n",
    "\n",
    "encoded = pd.get_dummies(df[to_encode])\n",
    "encoded_t = pd.get_dummies(df_t[to_encode])\n",
    "encoded['native_country_Holand-Netherlands'] = 0"
   ]
  },
  {
   "cell_type": "code",
   "execution_count": null,
   "metadata": {},
   "outputs": [],
   "source": [
    "df.columns"
   ]
  },
  {
   "cell_type": "code",
   "execution_count": null,
   "metadata": {},
   "outputs": [],
   "source": [
    "features = ['education_num','capital_gain_bool', 'age_bin', 'hours_per_week_log', 'Male_married_14y_edu', 'ceo_prof_m']\n",
    "target = 'is_income_over_50K'"
   ]
  },
  {
   "cell_type": "code",
   "execution_count": null,
   "metadata": {},
   "outputs": [],
   "source": [
    "preprocessed = df[features]\n",
    "preprocessed_t = df_t[features]"
   ]
  },
  {
   "cell_type": "code",
   "execution_count": null,
   "metadata": {},
   "outputs": [],
   "source": [
    "print(preprocessed.shape)\n",
    "print(preprocessed_t.shape)"
   ]
  },
  {
   "cell_type": "code",
   "execution_count": null,
   "metadata": {},
   "outputs": [],
   "source": [
    "X_train = pd.concat([preprocessed, encoded], axis=1)\n",
    "X_test = pd.concat([preprocessed_t, encoded_t], axis=1)\n",
    "y_train = df[target]\n",
    "\n",
    "print(X_train.shape)\n",
    "print(X_test.shape)\n",
    "print(y_train.shape)"
   ]
  },
  {
   "cell_type": "markdown",
   "metadata": {},
   "source": [
    "# Model Tuning & Evaluation (step.06)"
   ]
  },
  {
   "cell_type": "markdown",
   "metadata": {},
   "source": [
    "# Model Tuning & Evaluation (step.06-1)"
   ]
  },
  {
   "cell_type": "code",
   "execution_count": null,
   "metadata": {},
   "outputs": [],
   "source": [
    "# 데이터 분석 라이브러리\n",
    "import numpy as np\n",
    "import pandas as pd\n",
    "\n",
    "# 시각화 라이브러리\n",
    "import matplotlib as mpl\n",
    "import matplotlib.pyplot as plt\n",
    "import seaborn as sns\n",
    "from plotnine import *\n",
    "\n",
    "# 모델링 라이브러리\n",
    "from category_encoders.ordinal import OrdinalEncoder\n",
    "from sklearn.model_selection import KFold\n",
    "from lightgbm import LGBMClassifier\n",
    "\n",
    "# 기타 라이브러리\n",
    "import random\n",
    "import gc\n",
    "import os\n",
    "\n",
    "for dirname, _, filenames in os.walk('/kaggle/input'):\n",
    "    for filename in filenames:\n",
    "        print(os.path.join(dirname, filename))\n",
    "        \n",
    "sns.set_style(\"whitegrid\")"
   ]
  },
  {
   "cell_type": "code",
   "execution_count": null,
   "metadata": {},
   "outputs": [],
   "source": [
    "print(X_train.shape)\n",
    "print(X_test.shape)\n",
    "print(y_train.shape)"
   ]
  },
  {
   "cell_type": "code",
   "execution_count": null,
   "metadata": {},
   "outputs": [],
   "source": [
    "# # path = '/kaggle/input/kakr-4th-competition/'\n",
    "\n",
    "# # train = pd.read_csv(path + 'train.csv')\n",
    "# # test = pd.read_csv(path + 'test.csv')\n",
    "# # sample_submission = pd.read_csv(path + 'sample_submission.csv')\n",
    "\n",
    "# # print(train.shape)\n",
    "# print(test.shape)"
   ]
  },
  {
   "cell_type": "code",
   "execution_count": null,
   "metadata": {},
   "outputs": [],
   "source": [
    "# train.drop(['id'], axis=1, inplace=True)\n",
    "# test.drop(['id'], axis=1, inplace=True)"
   ]
  },
  {
   "cell_type": "code",
   "execution_count": null,
   "metadata": {},
   "outputs": [],
   "source": [
    "# y = train['income'] != '<=50K'\n",
    "# X = train.drop(['income'], axis=1)"
   ]
  },
  {
   "cell_type": "code",
   "execution_count": null,
   "metadata": {},
   "outputs": [],
   "source": [
    "# # 라벨 인코더 생성\n",
    "# LE_encoder = OrdinalEncoder(list(X.columns))\n",
    "\n",
    "# # train, test 데이터에 인코딩 적용\n",
    "# X = LE_encoder.fit_transform(X, y)\n",
    "# test = LE_encoder.transform(test)"
   ]
  },
  {
   "cell_type": "code",
   "execution_count": null,
   "metadata": {},
   "outputs": [],
   "source": [
    "NFOLDS = 5\n",
    "folds = KFold(n_splits=NFOLDS)\n",
    "\n",
    "columns = X_train.columns\n",
    "splits = folds.split(X_train, y_train)\n",
    "y_preds = np.zeros(X_test.shape[0])\n",
    "\n",
    "feature_importances = pd.DataFrame()\n",
    "feature_importances['feature'] = columns"
   ]
  },
  {
   "cell_type": "code",
   "execution_count": null,
   "metadata": {},
   "outputs": [],
   "source": [
    "model = LGBMClassifier(objective='binary', verbose=400, random_state=91)\n",
    "\n",
    "\n",
    "for fold_n, (train_index, valid_index) in enumerate(splits):\n",
    "    print('Fold: ', fold_n+1)\n",
    "    X_t, X_v = X_train.iloc[train_index], X_train.iloc[valid_index]\n",
    "    y_t, y_v = y_train.iloc[train_index], y_train.iloc[valid_index]\n",
    "\n",
    "    evals = [(X_t, y_t), (X_v, y_v)]\n",
    "    model.fit(X_t, y_t, eval_metric='f1', eval_set=evals, verbose=True)\n",
    "    \n",
    "    feature_importances[f'fold_{fold_n + 1}'] = model.feature_importances_\n",
    "        \n",
    "    y_preds += model.predict(X_test).astype(int) / NFOLDS\n",
    "    \n",
    "    del X_t, X_v, y_t, y_v\n",
    "    gc.collect()"
   ]
  },
  {
   "cell_type": "code",
   "execution_count": null,
   "metadata": {},
   "outputs": [],
   "source": [
    "sample_submission['prediction'] = y_preds\n",
    "\n",
    "for ix, row in sample_submission.iterrows():\n",
    "    if row['prediction'] > 0.5:\n",
    "        sample_submission.loc[ix, 'prediction'] = 1\n",
    "    else:\n",
    "        sample_submission.loc[ix, 'prediction'] = 0\n",
    "\n",
    "sample_submission = sample_submission.astype({\"prediction\": int})\n",
    "sample_submission.to_csv('submission_10_28_2.csv', index=False)"
   ]
  },
  {
   "cell_type": "code",
   "execution_count": null,
   "metadata": {},
   "outputs": [],
   "source": [
    "fig, ax = plt.subplots(1, 1, figsize=(8, 4))\n",
    "col = 'prediction'\n",
    "value_counts = sample_submission[col].value_counts()\n",
    "sns.countplot(x=col, data=sample_submission, palette=\"Set2\", edgecolor='black', order = value_counts.index)\n",
    "\n",
    "for i, v in value_counts.reset_index().iterrows():\n",
    "    ax.text(i-0.05, v[col]+150 , v[col])"
   ]
  }
 ],
 "metadata": {
  "kernelspec": {
   "display_name": "Python 3",
   "language": "python",
   "name": "python3"
  },
  "language_info": {
   "codemirror_mode": {
    "name": "ipython",
    "version": 3
   },
   "file_extension": ".py",
   "mimetype": "text/x-python",
   "name": "python",
   "nbconvert_exporter": "python",
   "pygments_lexer": "ipython3",
   "version": "3.7.6"
  }
 },
 "nbformat": 4,
 "nbformat_minor": 4
}
