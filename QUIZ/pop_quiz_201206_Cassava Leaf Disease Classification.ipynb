{
 "cells": [
  {
   "cell_type": "markdown",
   "metadata": {},
   "source": [
    "# 🌿Cassava Leaf Disease Classification\n",
    "\n",
    "---\n",
    "#### Overview\n",
    "*  In Africa cassava is a key food but viral diseases are major sources of poor yields. With the help of data science, it may be possible to identify common diseases so they can be treated.\n",
    "\n",
    "\n",
    "<img src=https://www.healthbenefitstimes.com/9/uploads/2016/03/Cassava-Leaf.png width=\"300\">\n",
    "\n",
    "\n",
    "* In this competition, we introduce a dataset of 21,367 labeled images\n",
    "* Your task is to classify each cassava image into four disease categories or a fifth category indicating a healthy leaf.\n",
    "---\n",
    "#### Data\n",
    "\n",
    "[train/test]_images the image files. The full set of test images will only be available to your notebook when it is submitted for scoring. Expect to see roughly 15,000 images in the test set.\n",
    "\n",
    "\n",
    "\n",
    "##### train.csv\n",
    "\n",
    "* __image_id__ : the image file name.\n",
    "* __label__ : the ID code for the disease.\n",
    "\n",
    "##### sample_submission.csv \n",
    "A properly formatted sample submission, given the disclosed test set content.\n",
    "\n",
    "* __image_id__ :  the image file name.\n",
    "* __label__ : the predicted ID code for the disease.\n",
    "\n",
    "\n",
    "\n",
    "[train/test]_tfrecords the image files in tfrecord format.\n",
    "\n",
    "\n",
    "label_num_to_disease_map.json The mapping between each disease code and the real disease name.\n",
    "\n",
    "---\n",
    "#### Evaluation\n",
    "Submissions will be evaluated based on their [categorization accuracy](https://developers.google.com/machine-learning/crash-course/classification/accuracy).\n",
    "<img src=https://t1.daumcdn.net/cfile/tistory/99DC064C5BE056CE10  width=\"300\">\n",
    "\n",
    "---\n",
    "\n",
    "[Competition Link](https://www.kaggle.com/c/cassava-leaf-disease-classification/overview/timeline)"
   ]
  },
  {
   "cell_type": "markdown",
   "metadata": {},
   "source": [
    "# Import Library (step.01)"
   ]
  },
  {
   "cell_type": "code",
   "execution_count": 4,
   "metadata": {},
   "outputs": [],
   "source": [
    "import os\n",
    "import albumentations\n",
    "import matplotlib.pyplot as plt\n",
    "import pandas as pd\n",
    "import numpy as np\n",
    "\n",
    "import torch\n",
    "import torch.nn as nn\n",
    "import torchvision\n",
    "\n",
    "from sklearn import metrics, model_selection\n",
    "\n",
    "%matplotlib inline"
   ]
  },
  {
   "cell_type": "markdown",
   "metadata": {},
   "source": [
    "# Load Data (step.02)"
   ]
  },
  {
   "cell_type": "code",
   "execution_count": 7,
   "metadata": {},
   "outputs": [
    {
     "name": "stdout",
     "output_type": "stream",
     "text": [
      "(21397, 2)\n"
     ]
    },
    {
     "data": {
      "text/html": [
       "<div>\n",
       "<style scoped>\n",
       "    .dataframe tbody tr th:only-of-type {\n",
       "        vertical-align: middle;\n",
       "    }\n",
       "\n",
       "    .dataframe tbody tr th {\n",
       "        vertical-align: top;\n",
       "    }\n",
       "\n",
       "    .dataframe thead th {\n",
       "        text-align: right;\n",
       "    }\n",
       "</style>\n",
       "<table border=\"1\" class=\"dataframe\">\n",
       "  <thead>\n",
       "    <tr style=\"text-align: right;\">\n",
       "      <th></th>\n",
       "      <th>image_id</th>\n",
       "      <th>label</th>\n",
       "    </tr>\n",
       "  </thead>\n",
       "  <tbody>\n",
       "    <tr>\n",
       "      <td>0</td>\n",
       "      <td>1000015157.jpg</td>\n",
       "      <td>0</td>\n",
       "    </tr>\n",
       "    <tr>\n",
       "      <td>1</td>\n",
       "      <td>1000201771.jpg</td>\n",
       "      <td>3</td>\n",
       "    </tr>\n",
       "    <tr>\n",
       "      <td>2</td>\n",
       "      <td>100042118.jpg</td>\n",
       "      <td>1</td>\n",
       "    </tr>\n",
       "    <tr>\n",
       "      <td>3</td>\n",
       "      <td>1000723321.jpg</td>\n",
       "      <td>1</td>\n",
       "    </tr>\n",
       "    <tr>\n",
       "      <td>4</td>\n",
       "      <td>1000812911.jpg</td>\n",
       "      <td>3</td>\n",
       "    </tr>\n",
       "  </tbody>\n",
       "</table>\n",
       "</div>"
      ],
      "text/plain": [
       "         image_id  label\n",
       "0  1000015157.jpg      0\n",
       "1  1000201771.jpg      3\n",
       "2   100042118.jpg      1\n",
       "3  1000723321.jpg      1\n",
       "4  1000812911.jpg      3"
      ]
     },
     "execution_count": 7,
     "metadata": {},
     "output_type": "execute_result"
    }
   ],
   "source": [
    "path = 'D:/data/cassava-leaf-disease-classification/'\n",
    "train = pd.read_csv(path + 'train.csv')\n",
    "print(train.shape)\n",
    "train.head()"
   ]
  },
  {
   "cell_type": "code",
   "execution_count": 15,
   "metadata": {},
   "outputs": [
    {
     "name": "stdout",
     "output_type": "stream",
     "text": [
      "df_train: (19257, 2)\n",
      "df_valid: (2140, 2)\n"
     ]
    }
   ],
   "source": [
    "df_train, df_valid = model_selection.train_test_split(\n",
    "    train,\n",
    "    test_size = 0.1,\n",
    "    random_state = 91,\n",
    "    stratify = train.label.values\n",
    ")\n",
    "\n",
    "df_train = df_train.reset_index(drop = True)\n",
    "df_valid = df_valid.reset_index(drop = True)\n",
    "\n",
    "print('df_train: {}'.format(df_train.shape), 'df_valid: {}'.format(df_valid.shape), sep = '\\n')"
   ]
  },
  {
   "cell_type": "code",
   "execution_count": 16,
   "metadata": {},
   "outputs": [],
   "source": [
    "image_path = 'D:/data/cassava-leaf-disease-classification/train_images/'"
   ]
  },
  {
   "cell_type": "code",
   "execution_count": null,
   "metadata": {},
   "outputs": [],
   "source": []
  }
 ],
 "metadata": {
  "kernelspec": {
   "display_name": "Python 3",
   "language": "python",
   "name": "python3"
  },
  "language_info": {
   "codemirror_mode": {
    "name": "ipython",
    "version": 3
   },
   "file_extension": ".py",
   "mimetype": "text/x-python",
   "name": "python",
   "nbconvert_exporter": "python",
   "pygments_lexer": "ipython3",
   "version": "3.7.4"
  }
 },
 "nbformat": 4,
 "nbformat_minor": 2
}
