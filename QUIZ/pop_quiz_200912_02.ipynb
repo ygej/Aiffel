{
 "cells": [
  {
   "cell_type": "markdown",
   "metadata": {},
   "source": [
    "# 깜퀴_20200912_02"
   ]
  },
  {
   "cell_type": "markdown",
   "metadata": {},
   "source": [
    "# 문제 2\n",
    "[에라토스네스의 체](https://www.acmicpc.net/problem/2960)"
   ]
  },
  {
   "cell_type": "code",
   "execution_count": null,
   "metadata": {},
   "outputs": [],
   "source": [
    "에라토스테네스의 체는 N보다 작거나 같은 모든 소수를 찾는 유명한 알고리즘이다.\n",
    "\n",
    "이 알고리즘은 다음과 같다.\n",
    "\n",
    "2부터 N까지 모든 정수를 적는다.\n",
    "아직 지우지 않은 수 중 가장 작은 수를 찾는다. 이것을 P라고 하고, 이 수는 소수이다.\n",
    "P를 지우고, 아직 지우지 않은 P의 배수를 크기 순서대로 지운다.\n",
    "아직 모든 수를 지우지 않았다면, 다시 2번 단계로 간다.\n",
    "N, K가 주어졌을 때, K번째 지우는 수를 구하는 프로그램을 작성하시오."
   ]
  },
  {
   "cell_type": "code",
   "execution_count": 198,
   "metadata": {},
   "outputs": [
    {
     "name": "stdout",
     "output_type": "stream",
     "text": [
      "10 7\n",
      "9\n"
     ]
    }
   ],
   "source": [
    "import math\n",
    "# 첫째 줄에 N과 K가 주어진다. (1 ≤ K < N, max(2, K) < N ≤ 1000)\n",
    "n, k = list(map(int,input().split()))\n",
    "\n",
    "# 소수를 찾는 함수\n",
    "def find_prime_num(x):\n",
    "    share = 1\n",
    "    count = 2\n",
    "    while count < round(math.sqrt(x)+1):\n",
    "        if x % count != 0:\n",
    "            count += 1\n",
    "        else:\n",
    "            share = 0\n",
    "            break\n",
    "    if share == 0:\n",
    "        return False\n",
    "    else:\n",
    "        return True\n",
    "\n",
    "# 2부터 N까지 모든 정수를 적는다.\n",
    "num_list = [i for i in range(2, n+1)]\n",
    "\n",
    "# 아직 지우지 않은 수 중 가장 작은 수를 찾는다. 이것을 P라고 하고, 이 수는 소수이다.\n",
    "# P를 지우고, 아직 지우지 않은 P의 배수를 크기 순서대로 지운다.\n",
    "# 아직 모든 수를 지우지 않았다면, 다시 2번 단계로 간다.\n",
    "del_list = []\n",
    "while True:\n",
    "    p = list(filter(find_prime_num, num_list))[0]\n",
    "    for i in num_list:\n",
    "        if len(del_list) == k:\n",
    "            break\n",
    "        if i % p == 0:\n",
    "            del_list.append(i)\n",
    "            num_list.remove(i)\n",
    " \n",
    "    if len(del_list) ==k:\n",
    "        break\n",
    "        \n",
    "# K번째 지워진 수를 출력       \n",
    "print(del_list[k-1])"
   ]
  },
  {
   "cell_type": "code",
   "execution_count": null,
   "metadata": {},
   "outputs": [],
   "source": []
  }
 ],
 "metadata": {
  "kernelspec": {
   "display_name": "Python 3",
   "language": "python",
   "name": "python3"
  },
  "language_info": {
   "codemirror_mode": {
    "name": "ipython",
    "version": 3
   },
   "file_extension": ".py",
   "mimetype": "text/x-python",
   "name": "python",
   "nbconvert_exporter": "python",
   "pygments_lexer": "ipython3",
   "version": "3.7.6"
  }
 },
 "nbformat": 4,
 "nbformat_minor": 4
}
