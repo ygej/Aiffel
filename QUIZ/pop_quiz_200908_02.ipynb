{
 "cells": [
  {
   "cell_type": "markdown",
   "metadata": {},
   "source": [
    "# 깜퀴_20200908"
   ]
  },
  {
   "cell_type": "markdown",
   "metadata": {},
   "source": [
    "### 문제 2\n",
    "2016년 1월 1일은 금요일입니다. 2016년 a월 b일은 무슨 요일일까요? 두 수 a ,b를 입력받아 2016년 a월 b일이 무슨 요일인지 리턴하는 함수, solution을 완성하세요. 요일의 이름은 일요일부터 토요일까지 각각 SUN,MON,TUE,WED,THU,FRI,SAT\n",
    "입니다. 예를 들어 a=5, b=24라면 5월 24일은 화요일이므로 문자열 TUE를 반환하세요.\n",
    "참고로 2016년은 윤년입니다(2월이 29일까지 있는 해이죠)\n",
    "앞으로 정답의 형태는 오늘 배운 함수로!! 진행해주시면 됩니다. 예를 들어 위의 문제 같은 경우는 입력값을 a, b로 받고 리턴은 12를 한다했으므로 의 꼴로 짜주시면 됩니다! 그러니 solution(5, 24)의 결과는 'TUE'가 나와야겠죠?\n",
    "댓글로 제가 테스트 케이스까지 적어둘테니 모두 돌아가는지 확인해보세요!"
   ]
  },
  {
   "cell_type": "code",
   "execution_count": 50,
   "metadata": {},
   "outputs": [],
   "source": [
    "def solution(a,b):\n",
    "    day_num = []\n",
    "    day_list = ['FRI','SAT','SUN','MON','TUE','WED','THU']\n",
    "    for i in range(1,13):\n",
    "        if i == 1 or i == 3 or i == 5 or i == 7 or i == 8 or i == 10 or i == 12:\n",
    "            for j in range(1,32):\n",
    "                day_num.append([i,j])\n",
    "    \n",
    "        elif i == 4 or i == 6 or i == 9 or i == 11:\n",
    "            for j in range(1,31):\n",
    "                day_num.append([i,j])\n",
    "        elif i == 2:\n",
    "            for j in range(1,30):\n",
    "                day_num.append([i,j])           \n",
    "                \n",
    "    print(day_list[day_num.index([a,b])%7])"
   ]
  },
  {
   "cell_type": "code",
   "execution_count": 51,
   "metadata": {},
   "outputs": [
    {
     "name": "stdout",
     "output_type": "stream",
     "text": [
      "TUE\n",
      "SAT\n",
      "FRI\n",
      "TUE\n",
      "SUN\n"
     ]
    }
   ],
   "source": [
    "solution(5,24)\n",
    "solution(12,31)\n",
    "solution(1,1)\n",
    "solution(3,1)\n",
    "solution(12,25)"
   ]
  },
  {
   "cell_type": "code",
   "execution_count": null,
   "metadata": {},
   "outputs": [],
   "source": []
  }
 ],
 "metadata": {
  "kernelspec": {
   "display_name": "Python 3",
   "language": "python",
   "name": "python3"
  },
  "language_info": {
   "codemirror_mode": {
    "name": "ipython",
    "version": 3
   },
   "file_extension": ".py",
   "mimetype": "text/x-python",
   "name": "python",
   "nbconvert_exporter": "python",
   "pygments_lexer": "ipython3",
   "version": "3.7.6"
  }
 },
 "nbformat": 4,
 "nbformat_minor": 4
}
