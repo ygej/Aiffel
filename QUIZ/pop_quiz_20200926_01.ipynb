{
 "cells": [
  {
   "cell_type": "markdown",
   "metadata": {},
   "source": [
    "# 깜퀴_20200926_01"
   ]
  },
  {
   "cell_type": "markdown",
   "metadata": {},
   "source": [
    "# 문제 1\n",
    "[클래스와 터틀 활용해서 직사각형 만들어보기](https://www.notion.so/7b79f16959b3462a98feb345cc6c5583)"
   ]
  },
  {
   "cell_type": "code",
   "execution_count": 1,
   "metadata": {},
   "outputs": [],
   "source": [
    "import turtle as t\n",
    "\n",
    "class DrawPolynomial:\n",
    "    def __init__(self, width, height, color, shape='circle'):\n",
    "        self.width = width\n",
    "        self.height = height\n",
    "        self.color = color\n",
    "        self.shape = shape\n",
    "\n",
    "\n",
    "    def area(self):\n",
    "        s_area = self.width * self.height\n",
    "        print(s_area)\n",
    "\n",
    "\n",
    "    def get_attr(self, attr):\n",
    "        if attr == 'width':\n",
    "            print(self.width)\n",
    "        elif attr == 'height':\n",
    "            print(self.height)\n",
    "        elif attr == 'color':\n",
    "            print(self.color)\n",
    "\n",
    "\n",
    "    def change_attr(self, width=None, height=None, color=None):\n",
    "        if width >= 0:\n",
    "            self.width = width\n",
    "        elif height >= 0:\n",
    "            self.height = height\n",
    "        elif self.color:\n",
    "            self.color = color\n",
    "        else:\n",
    "            pass\n",
    "        \n",
    "        \n",
    "\n",
    "    def draw(self):\n",
    "        t.shape(self.shape)\n",
    "        t.color(self.color)\n",
    "        t.begin_fill()\n",
    "        \n",
    "        for i in range(4):\n",
    "            t.forward(self.width)\n",
    "            for j in range(0,1):\n",
    "                t.right(90)\n",
    "                t.forward(self.height)\n",
    "        t.end_fill()\n",
    "        t.exitonclick()"
   ]
  },
  {
   "cell_type": "code",
   "execution_count": 2,
   "metadata": {},
   "outputs": [
    {
     "name": "stdout",
     "output_type": "stream",
     "text": [
      "10000\n",
      "100\n",
      "120\n"
     ]
    }
   ],
   "source": [
    "poly = DrawPolynomial(width=100, height=100, color='red')\n",
    "poly.area()\n",
    "poly.get_attr('width')\n",
    "poly.change_attr(width=120)\n",
    "poly.get_attr('width')"
   ]
  },
  {
   "cell_type": "code",
   "execution_count": 3,
   "metadata": {},
   "outputs": [],
   "source": [
    "poly.draw()"
   ]
  },
  {
   "cell_type": "code",
   "execution_count": null,
   "metadata": {},
   "outputs": [],
   "source": []
  }
 ],
 "metadata": {
  "kernelspec": {
   "display_name": "Python 3",
   "language": "python",
   "name": "python3"
  },
  "language_info": {
   "codemirror_mode": {
    "name": "ipython",
    "version": 3
   },
   "file_extension": ".py",
   "mimetype": "text/x-python",
   "name": "python",
   "nbconvert_exporter": "python",
   "pygments_lexer": "ipython3",
   "version": "3.7.6"
  }
 },
 "nbformat": 4,
 "nbformat_minor": 4
}
