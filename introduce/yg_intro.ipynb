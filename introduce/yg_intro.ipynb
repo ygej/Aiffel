{
 "cells": [
  {
   "cell_type": "markdown",
   "metadata": {},
   "source": [
    "# 자기소개 \n",
    "---\n",
    "### 기본 소개\n",
    "---\n",
    "\n",
    "#### 1. 이름\n",
    " * 김용구\n",
    "     * 의외로 순 한글입니다.\n",
    "     * 이름의 뜻은 없어서 그때 그때 의미를 가변적으로 부여합니다.\n",
    "         + 용 아홉마리, 청소용구, 미술용구 등등\n",
    "         \n",
    "#### 2.하는 일\n",
    " * 자동차 부품 제조 회사에서 일하고 있습니다.\n",
    "     + 주 업무: 구매/조달\n",
    "     + 부 업무: RPA 기획\n",
    "     \n",
    "#### 3.관심분야\n",
    " * 구매/조달에 데이터 기반 의사결정 시스템을 도입하는 것\n",
    "     * 예측 기반 발주 자동화\n",
    "     * 부품 단가 예측\n",
    "     * 거래 위험 업쳬 예측\n",
    "     * 그 외 아이디어가 정말 무궁무진 합니다!\n",
    " * 트랜드를 일기예보 처럼 예측하는 것\n",
    "     * 예측한 트랜드에 맞는 컨텐츠를 미리 제작하고 싶습니다.\n",
    " * 영화\n",
    "     * 영화 좋아합니다. 너무 좋아서 직접 만들기도 했습니다!\n",
    " * F1\n",
    "     * 넷플릭스에서 F1 다큐를 보고 푹 빠져버렸어요...\n",
    "     * 드라이빙 아카데미에서 교육 이수하고 내년에 레이싱 대회 참가가 목적이에요!    \n",
    "---\n",
    "\n",
    "### 하고싶은 말\n",
    "\n",
    "데이터 관련해서 다른 교육들도 알아보고 받아보기도 했는데, 무엇보다 다같이 협업하는 이 문화가 너무 소중하고 좋습니다. 함께 AI/빅데이터를 통해 더 나은 세상을 만들어 갔으면 합니다!\n"
   ]
  },
  {
   "cell_type": "code",
   "execution_count": null,
   "metadata": {},
   "outputs": [],
   "source": []
  }
 ],
 "metadata": {
  "kernelspec": {
   "display_name": "ds",
   "language": "python",
   "name": "ds"
  },
  "language_info": {
   "codemirror_mode": {
    "name": "ipython",
    "version": 3
   },
   "file_extension": ".py",
   "mimetype": "text/x-python",
   "name": "python",
   "nbconvert_exporter": "python",
   "pygments_lexer": "ipython3",
   "version": "3.8.5"
  }
 },
 "nbformat": 4,
 "nbformat_minor": 4
}
