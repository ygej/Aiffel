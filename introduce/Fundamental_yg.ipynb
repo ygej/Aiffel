{
 "cells": [
  {
   "cell_type": "markdown",
   "metadata": {},
   "source": [
    "## Jupyter notebook & Github 실습\n",
    "\n",
    "---\n",
    "\n",
    "### 실습파일\n",
    "\n",
    "* [자기소개](https://github.com/ygej/introduce/blob/master/yg_intro.ipynb)\n",
    "\n",
    "---\n",
    "\n",
    "\n",
    "### 문제\n",
    "* 소스코드를 작성하여 하나의 폴더로 묶으려면?\n",
    "    * [구글갓님께 답을 구하였습니다](https://twoicefish-secu.tistory.com/121)\n",
    "    * [코딩도장 소스코드](https://github.com/ygej/Aiffel/blob/master/dojang)\n",
    "    \n",
    "    \n",
    "---\n",
    "    \n",
    "### 더 생각해보기\n",
    "\n",
    "#### * *커밋이란 무엇일까요?*   \n",
    "[커밋 개념](https://t1.daumcdn.net/cfile/tistory/99816E335986E12C27)   \n",
    "Git의 working space 의 현재 상태를 저장하는 것   \n",
    "    \n",
    "\n",
    "#### * *커밋 단위는 어떻게 잡아야 할까요?*   \n",
    "[커밋 가이드](https://tech.10000lab.xyz/git/git-commit-discipline.html)   \n",
    "프로젝트에 따라 달라지겠지만,기본적으로 커밋을 영상에서 편집점이라고 했을 때, 편집점이 많을 수록 동시에 작업할 때 특정 편집시점으로 돌아가기가 편합니다. 따라서 변경이 있을 때마다 수시로 커밋을 하는 것이 좋다고 생각합니다.   \n",
    "\n",
    "\n",
    "#### * *커밋 메시지에는 어떤 내용이 포함되어야 좋을까요?*   \n",
    "\n",
    "좋은 커밋 메시지 예시:\n",
    "\n",
    "```\n",
    "provision: Fix node_modules being owned by root.\n",
    "\n",
    "A bug in the node_cache.py code resulted in the node_modules symlink\n",
    "in Zulip development environments being incorrectly owned by root.\n",
    "This causes that bug to be fixed the next time a user provisions.\n",
    "```\n",
    "1. 어떤 것을 커밋했는지 간결하게 작성\n",
    "2. 코드의 어떤 부분을 수정했는지 작성"
   ]
  },
  {
   "cell_type": "code",
   "execution_count": null,
   "metadata": {},
   "outputs": [],
   "source": []
  }
 ],
 "metadata": {
  "kernelspec": {
   "display_name": "ds",
   "language": "python",
   "name": "ds"
  },
  "language_info": {
   "codemirror_mode": {
    "name": "ipython",
    "version": 3
   },
   "file_extension": ".py",
   "mimetype": "text/x-python",
   "name": "python",
   "nbconvert_exporter": "python",
   "pygments_lexer": "ipython3",
   "version": "3.8.5"
  }
 },
 "nbformat": 4,
 "nbformat_minor": 4
}
