{
 "cells": [
  {
   "cell_type": "markdown",
   "metadata": {},
   "source": [
    "# 파이썬 코딩도장 - 39.7 심사문제: 시간 이터레이터 만들기\n",
    "### 표준 입력으로 정수 세 개가 입력됩니다(첫 번째 정수는 시작하는 초, 두 번째 정수는 반복을 끝낼 초, 세 번째 정수는 인덱스이며 입력되는 초의 범위는 0~100000, 입력되는 인덱스의 범위는 0~10입니다). 다음 소스 코드에서 시간 값을 생성하는 이터레이터를 만드세요.\n",
    "\n",
    "* 시간 값은 문자열이고 시:분:초 형식입니다. 만약 숫자가 한 자리일 경우 앞에 0을 붙입니다(예: 12:01:08).\n",
    "* 1초는 00:00:01입니다. 23:59:59를 넘길 경우 00:00:00부터 다시 시작해야 합니다.\n",
    "* 시간은 반복을 끝낼 초 직전까지만 출력해야 합니다(반복을 끝낼 초는 포함되지 않음).\n",
    "\n",
    "### 입력)\n",
    "```\n",
    "________________\n",
    "________________\n",
    "________________\n",
    "________________\n",
    "________________\n",
    "________________\n",
    "________________\n",
    "________________\n",
    "________________\n",
    "________________\n",
    "________________\n",
    "________________\n",
    "\n",
    "start, stop, index = map(int, input().split())\n",
    " \n",
    "for i in TimeIterator(start, stop):\n",
    "    print(i)\n",
    " \n",
    "print('\\n', TimeIterator(start, stop)[index], sep='')\n",
    "```\n",
    "\n",
    "### 예)\n",
    "```\n",
    "0 3 2\n",
    "```\n",
    "#### 결과)\n",
    "```\n",
    "00:00:00\n",
    "00:00:01\n",
    "00:00:02\n",
    "\n",
    "00:00:02\n",
    "\n",
    "```"
   ]
  },
  {
   "cell_type": "code",
   "execution_count": 46,
   "metadata": {},
   "outputs": [
    {
     "name": "stdout",
     "output_type": "stream",
     "text": [
      "0 3 2\n",
      "00:00:00\n",
      "00:00:01\n",
      "00:00:02\n",
      "\n",
      "00:00:02\n"
     ]
    }
   ],
   "source": [
    "# 정답\n",
    "\n",
    "class TimeIterator:\n",
    "    \n",
    "    def __init__(self, start, stop):\n",
    "        self.start = start\n",
    "        self.stop = stop\n",
    "        self.current = -1\n",
    "    \n",
    "    def __getitem__(self, index):\n",
    "        self.current += 1\n",
    "        if index < (self.stop-self.start):\n",
    "            hour = (self.start + index)//60//60\n",
    "            minute = (self.start + index)//60%60\n",
    "            second = (self.start + index)%60\n",
    "            if hour == 24:\n",
    "                return '{0:02d}:{1:02d}:{2:02d}'.format(0, minute, second)\n",
    "            else:\n",
    "                return '{0:02d}:{1:02d}:{2:02d}'.format(hour, minute, second)\n",
    "                \n",
    "        else:\n",
    "            raise IndexError\n",
    "        \n",
    "        \n",
    "\n",
    "start, stop, index = map(int, input().split())\n",
    "\n",
    "for i in TimeIterator(start, stop):\n",
    "    print(i)\n",
    "\n",
    "print('\\n', TimeIterator(start, stop)[index], sep='')"
   ]
  },
  {
   "cell_type": "code",
   "execution_count": 37,
   "metadata": {},
   "outputs": [
    {
     "data": {
      "text/plain": [
       "0"
      ]
     },
     "execution_count": 37,
     "metadata": {},
     "output_type": "execute_result"
    }
   ],
   "source": [
    "hour = (self.start + index)//60//60\n",
    "minute = (self.start + index)//60%60\n",
    "second = (self.start + index)%60"
   ]
  }
 ],
 "metadata": {
  "kernelspec": {
   "display_name": "Python 3",
   "language": "python",
   "name": "python3"
  },
  "language_info": {
   "codemirror_mode": {
    "name": "ipython",
    "version": 3
   },
   "file_extension": ".py",
   "mimetype": "text/x-python",
   "name": "python",
   "nbconvert_exporter": "python",
   "pygments_lexer": "ipython3",
   "version": "3.7.6"
  }
 },
 "nbformat": 4,
 "nbformat_minor": 4
}
