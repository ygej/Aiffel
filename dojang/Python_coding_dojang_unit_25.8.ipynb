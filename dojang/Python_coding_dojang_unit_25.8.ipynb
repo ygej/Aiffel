{
 "cells": [
  {
   "cell_type": "markdown",
   "metadata": {},
   "source": [
    "# 파이썬 코딩도장 -  25.8 심사문제: 딕셔너리에서 특정 값 삭제하기\n",
    "### 표준 입력으로 문자열 여러 개와 숫자 여러 개가 두 줄로 입력되고, 첫 번째 줄은 키, 두 번째 줄은 값으로 하여 딕셔너리를 생성합니다. 다음 코드를 완성하여 딕셔너리에서 키가 'delta'인 키-값 쌍과 값이 30인 키-값 쌍을 삭제하도록 만드세요.\n",
    "\n",
    "### 입력)\n",
    "\n",
    "```\n",
    "keys = input().split()\n",
    "values = map(int, input().split())\n",
    " \n",
    "x = dict(zip(keys, values))\n",
    " \n",
    "________________\n",
    "________________\n",
    " \n",
    "print(x)\n",
    "```\n",
    "\n",
    "### 예)\n",
    "```\n",
    "alpha bravo charlie delta\n",
    "10 20 30 40\n",
    "```\n",
    "#### 결과)\n",
    "```\n",
    "{'alpha': 10, 'bravo': 20}\n",
    "\n",
    "```"
   ]
  },
  {
   "cell_type": "code",
   "execution_count": 1,
   "metadata": {},
   "outputs": [
    {
     "name": "stdout",
     "output_type": "stream",
     "text": [
      "alpha bravo charlie delta\n",
      "10 20 30 40\n",
      "{'alpha': 10, 'bravo': 20}\n"
     ]
    }
   ],
   "source": [
    "# 정답\n",
    "\n",
    "keys = input().split()\n",
    "values = map(int, input().split())\n",
    " \n",
    "x = dict(zip(keys, values))\n",
    "x = {key: value for key, value in x.items() if value != 30 if key != 'delta'}\n",
    "print(x)"
   ]
  },
  {
   "cell_type": "code",
   "execution_count": null,
   "metadata": {},
   "outputs": [],
   "source": []
  }
 ],
 "metadata": {
  "kernelspec": {
   "display_name": "Python 3",
   "language": "python",
   "name": "python3"
  },
  "language_info": {
   "codemirror_mode": {
    "name": "ipython",
    "version": 3
   },
   "file_extension": ".py",
   "mimetype": "text/x-python",
   "name": "python",
   "nbconvert_exporter": "python",
   "pygments_lexer": "ipython3",
   "version": "3.7.6"
  }
 },
 "nbformat": 4,
 "nbformat_minor": 4
}
