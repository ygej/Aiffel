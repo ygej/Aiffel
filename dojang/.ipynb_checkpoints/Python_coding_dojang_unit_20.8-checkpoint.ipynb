{
 "cells": [
  {
   "cell_type": "markdown",
   "metadata": {},
   "source": [
    "# 파이썬 코딩도장 - 20.8 심사문제: 5와 7의 배수, 공배수 처리하기\n",
    "### 표준 입력으로 정수 두 개가 입력됩니다(첫 번째 입력 값의 범위는 1~1000, 두 번째 입력 값의 범위는 10~1000이며 첫 번째 입력 값은 두 번째 입력 값보다 항상 작습니다). 첫 번째 정수부터 두 번째 정수까지 숫자를 출력하면서 5의 배수일 때는 'Fizz', 7의 배수일 때는 'Buzz', 5와 7의 공배수일 때는 'FizzBuzz'를 출력하는 프로그램을 만드세요(input에서 안내 문자열은 출력하지 않아야 합니다).\n",
    "\n",
    "### 입력)\n",
    "```\n",
    "\n",
    "_____________________\n",
    "_____________________\n",
    "_____________________\n",
    "_____________________\n",
    "_____________________\n",
    "\n",
    "```\n",
    "\n",
    "### 예)\n",
    "```\n",
    "35 40\n",
    "```\n",
    "#### 결과)\n",
    "```\n",
    "FizzBuzz\n",
    "36\n",
    "37\n",
    "38\n",
    "39\n",
    "Fizz\n",
    "\n",
    "```"
   ]
  },
  {
   "cell_type": "code",
   "execution_count": 1,
   "metadata": {},
   "outputs": [
    {
     "name": "stdout",
     "output_type": "stream",
     "text": [
      "35 40\n",
      "FizzBuzz\n",
      "36\n",
      "37\n",
      "38\n",
      "39\n",
      "Fizz\n"
     ]
    }
   ],
   "source": [
    "# 정답\n",
    "\n",
    "num1, num2 = map(int, input().split())\n",
    "\n",
    "for i in range(num1, num2+1):\n",
    "    print('Fizz'*(i%5==0) + 'Buzz'*(i%7==0) or i)"
   ]
  },
  {
   "cell_type": "code",
   "execution_count": null,
   "metadata": {},
   "outputs": [],
   "source": []
  }
 ],
 "metadata": {
  "kernelspec": {
   "display_name": "Python 3",
   "language": "python",
   "name": "python3"
  },
  "language_info": {
   "codemirror_mode": {
    "name": "ipython",
    "version": 3
   },
   "file_extension": ".py",
   "mimetype": "text/x-python",
   "name": "python",
   "nbconvert_exporter": "python",
   "pygments_lexer": "ipython3",
   "version": "3.7.6"
  }
 },
 "nbformat": 4,
 "nbformat_minor": 4
}
