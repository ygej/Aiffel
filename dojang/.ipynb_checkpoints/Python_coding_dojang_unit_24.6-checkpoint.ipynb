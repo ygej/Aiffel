{
 "cells": [
  {
   "cell_type": "markdown",
   "metadata": {},
   "source": [
    "# 파이썬 코딩도장 -  24.6 심사문제: 높은 가격순으로 출력하기\n",
    "### 표준 입력으로 물품 가격 여러 개가 문자열 한 줄로 입력되고, 각 가격은 ;(세미콜론)으로 구분되어 있습니다. 입력된 가격을 높은 가격순으로 출력하는 프로그램을 만드세요(input에서 안내 문자열은 출력하지 않아야 합니다). 이때 가격은 길이를 9로 만든 뒤 오른쪽으로 정렬하고 천단위로 ,(콤마)를 넣으세요.\n",
    "\n",
    "### 입력)\n",
    "\n",
    "```\n",
    "________________\n",
    "________________\n",
    "________________\n",
    "________________\n",
    "```\n",
    "\n",
    "### 예)\n",
    "```\n",
    "51900;83000;158000;367500;250000;59200;128500;1304000\n",
    "```\n",
    "#### 결과)\n",
    "```\n",
    "1,304,000\n",
    "  367,500\n",
    "  250,000\n",
    "  158,000\n",
    "  128,500\n",
    "   83,000\n",
    "   59,200\n",
    "   51,900\n",
    "\n",
    "```"
   ]
  },
  {
   "cell_type": "code",
   "execution_count": 1,
   "metadata": {},
   "outputs": [
    {
     "name": "stdout",
     "output_type": "stream",
     "text": [
      "51900;83000;158000;367500;250000;59200;128500;1304000\n",
      "1,304,000\n",
      "  367,500\n",
      "  250,000\n",
      "  158,000\n",
      "  128,500\n",
      "   83,000\n",
      "   59,200\n",
      "   51,900\n"
     ]
    }
   ],
   "source": [
    "# 정답\n",
    "\n",
    "price = list(map(int,input().split(';')))\n",
    "price.sort(reverse = True)\n",
    "for i in price:\n",
    "    print('%9s'%format(i, ','))"
   ]
  },
  {
   "cell_type": "code",
   "execution_count": null,
   "metadata": {},
   "outputs": [],
   "source": []
  }
 ],
 "metadata": {
  "kernelspec": {
   "display_name": "Python 3",
   "language": "python",
   "name": "python3"
  },
  "language_info": {
   "codemirror_mode": {
    "name": "ipython",
    "version": 3
   },
   "file_extension": ".py",
   "mimetype": "text/x-python",
   "name": "python",
   "nbconvert_exporter": "python",
   "pygments_lexer": "ipython3",
   "version": "3.7.6"
  }
 },
 "nbformat": 4,
 "nbformat_minor": 4
}
