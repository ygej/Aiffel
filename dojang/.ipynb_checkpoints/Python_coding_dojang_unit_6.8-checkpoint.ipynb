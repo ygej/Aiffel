{
 "cells": [
  {
   "cell_type": "markdown",
   "metadata": {},
   "source": [
    "# 파이썬 코딩도장 - 6.8 심사문제: 평균 점수 구하기\n",
    "---\n",
    "### 표준 입력으로 국어, 영어, 수학, 과학 점수가 입력됩니다. 평균 점수를 출력하는 프로그램을 만드세요(input에서 안내 문자열은 출력하지 않아야 합니다). 단, 평균 점수를 출력할 때는 소수점 이하 자리는 버립니다(정수로 출력).\n",
    "\n",
    "### 입력)\n",
    "________________\n",
    "________________\n",
    "\n",
    "### 예)\n",
    "#### 입력)\n",
    "83 92 87 90\n",
    "\n",
    "#### 출력)\n",
    "88"
   ]
  },
  {
   "cell_type": "code",
   "execution_count": 1,
   "metadata": {},
   "outputs": [
    {
     "name": "stdout",
     "output_type": "stream",
     "text": [
      "83 92 87 90\n",
      "88\n"
     ]
    }
   ],
   "source": [
    "# 정답\n",
    "a = list(map(int, input().split()))\n",
    "print(int((sum(a)/len(a))//1))"
   ]
  }
 ],
 "metadata": {
  "kernelspec": {
   "display_name": "Python 3",
   "language": "python",
   "name": "python3"
  },
  "language_info": {
   "codemirror_mode": {
    "name": "ipython",
    "version": 3
   },
   "file_extension": ".py",
   "mimetype": "text/x-python",
   "name": "python",
   "nbconvert_exporter": "python",
   "pygments_lexer": "ipython3",
   "version": "3.7.6"
  }
 },
 "nbformat": 4,
 "nbformat_minor": 4
}
