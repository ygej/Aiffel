{
 "cells": [
  {
   "cell_type": "markdown",
   "metadata": {},
   "source": [
    "# 파이썬 코딩도장 - 40.6 심사문제: 소수 제너레이터 만들기\n",
    "### 표준 입력으로 정수 두 개가 입력됩니다(첫 번째 입력 값의 범위는 10~1000, 두 번째 입력 값의 범위는 100~1000이며 첫 번째 입력 값은 두 번째 입력 값보다 항상 작습니다). 다음 소스 코드에서 첫 번째 정수부터 두 번째 정수 사이의 소수(prime number)를 생성하는 제너레이터를 만드세요. 소수는 1과 자기자신만으로 나누어 떨어지는 1보다 큰 양의 정수입니다.\n",
    "\n",
    "\n",
    "### 입력)\n",
    "```\n",
    "________________\n",
    "________________\n",
    "________________\n",
    "________________\n",
    "________________\n",
    "________________\n",
    "________________\n",
    "________________\n",
    "\n",
    "start, stop = map(int, input().split())\n",
    " \n",
    "g = prime_number_generator(start, stop)\n",
    "print(type(g))\n",
    "for i in g:\n",
    "    print(i, end=' ')\n",
    "```\n",
    "\n",
    "### 예)\n",
    "```\n",
    "50 100\n",
    "```\n",
    "#### 결과)\n",
    "```\n",
    "<class 'generator'>\n",
    "53 59 61 67 71 73 79 83 89 97 \n",
    "\n",
    "```"
   ]
  },
  {
   "cell_type": "code",
   "execution_count": 38,
   "metadata": {},
   "outputs": [
    {
     "name": "stdout",
     "output_type": "stream",
     "text": [
      "50 100\n",
      "<class 'generator'>\n",
      "53 59 61 67 71 73 79 83 89 97 "
     ]
    }
   ],
   "source": [
    "# 정답\n",
    "\n",
    "import math\n",
    "\n",
    "def find_prime_num(x):\n",
    "    share = 1\n",
    "    count = 2\n",
    "    while count < round(math.sqrt(x)+1):\n",
    "        if x % count != 0:\n",
    "            count += 1\n",
    "        else:\n",
    "            share = 0\n",
    "            break\n",
    "    if share == 0:\n",
    "        return False\n",
    "    else:\n",
    "        return True\n",
    "\n",
    "def prime_number_generator(start, stop):\n",
    "    \n",
    "    n = start\n",
    "    while n < stop+1:\n",
    "        if find_prime_num(n) == True:\n",
    "            yield n\n",
    "            n += 1\n",
    "        else:\n",
    "            n += 1\n",
    "\n",
    "\n",
    "start, stop = map(int, input().split())\n",
    " \n",
    "g = prime_number_generator(start, stop)\n",
    "print(type(g))\n",
    "for i in g:\n",
    "    print(i, end=' ')"
   ]
  }
 ],
 "metadata": {
  "kernelspec": {
   "display_name": "Python 3",
   "language": "python",
   "name": "python3"
  },
  "language_info": {
   "codemirror_mode": {
    "name": "ipython",
    "version": 3
   },
   "file_extension": ".py",
   "mimetype": "text/x-python",
   "name": "python",
   "nbconvert_exporter": "python",
   "pygments_lexer": "ipython3",
   "version": "3.7.6"
  }
 },
 "nbformat": 4,
 "nbformat_minor": 4
}
