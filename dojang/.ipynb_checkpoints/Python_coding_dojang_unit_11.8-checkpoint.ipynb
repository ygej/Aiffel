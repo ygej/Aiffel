{
 "cells": [
  {
   "cell_type": "markdown",
   "metadata": {},
   "source": [
    "# 파이썬 코딩도장 - 11.8 심사문제: 리스트의 마지막 부분 삭제하기\n",
    "### 표준 입력으로 숫자 또는 문자열 여러 개가 입력되어 리스트 x에 저장됩니다(입력되는 숫자 또는 문자열의 개수는 정해져 있지 않음). 다음 소스 코드를 완성하여 리스트 x의 마지막 요소 5개를 삭제한 뒤 튜플로 출력되게 만드세요.\n",
    "\n",
    "\n",
    "\n",
    "### 입력)\n",
    "```\n",
    "x = input().split()\n",
    "\n",
    "1 2 3 4 5 6 7 8 9 10\n",
    "\n",
    "oven bat pony total leak wreck curl crop space navy loss knee\n",
    "\n",
    "```\n",
    "\n",
    "### 예)\n",
    "\n",
    "#### 결과)\n",
    "```\n",
    "('1', '2', '3', '4', '5')\n",
    "\n",
    "('oven', 'bat', 'pony', 'total', 'leak', 'wreck', 'curl')\n",
    "```"
   ]
  },
  {
   "cell_type": "code",
   "execution_count": 2,
   "metadata": {},
   "outputs": [
    {
     "name": "stdout",
     "output_type": "stream",
     "text": [
      "oven bat pony total leak wreck curl crop space navy loss knee\n",
      "('oven', 'bat', 'pony', 'total', 'leak', 'wreck', 'curl')\n"
     ]
    }
   ],
   "source": [
    "# 정답\n",
    "x = input().split()\n",
    "print(tuple(x)[:len(x)-5])"
   ]
  },
  {
   "cell_type": "code",
   "execution_count": null,
   "metadata": {},
   "outputs": [],
   "source": []
  }
 ],
 "metadata": {
  "kernelspec": {
   "display_name": "Python 3",
   "language": "python",
   "name": "python3"
  },
  "language_info": {
   "codemirror_mode": {
    "name": "ipython",
    "version": 3
   },
   "file_extension": ".py",
   "mimetype": "text/x-python",
   "name": "python",
   "nbconvert_exporter": "python",
   "pygments_lexer": "ipython3",
   "version": "3.7.6"
  }
 },
 "nbformat": 4,
 "nbformat_minor": 4
}
