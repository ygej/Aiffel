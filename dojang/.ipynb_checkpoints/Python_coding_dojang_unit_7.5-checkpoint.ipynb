{
 "cells": [
  {
   "cell_type": "markdown",
   "metadata": {},
   "source": [
    "# 파이썬 코딩도장 - 6.7 심사문제: 변수 만들기\n",
    "---\n",
    "### 다음 소스 코드를 완성하여 50, 100, None이 각 줄에 출력되게 만드세요.\n",
    "\n",
    "### 입력)\n",
    "_________\n",
    "_________\n",
    "_________\n",
    "\n",
    "print(a)\n",
    "print(b)\n",
    "print(c)\n",
    "\n",
    "\n",
    "### 예)\n",
    "50   \n",
    "100   \n",
    "None   "
   ]
  },
  {
   "cell_type": "code",
   "execution_count": 1,
   "metadata": {},
   "outputs": [],
   "source": [
    "# 정답\n",
    "a = 50\n",
    "b = 100\n",
    "c = None"
   ]
  },
  {
   "cell_type": "code",
   "execution_count": null,
   "metadata": {},
   "outputs": [],
   "source": []
  }
 ],
 "metadata": {
  "kernelspec": {
   "display_name": "Python 3",
   "language": "python",
   "name": "python3"
  },
  "language_info": {
   "codemirror_mode": {
    "name": "ipython",
    "version": 3
   },
   "file_extension": ".py",
   "mimetype": "text/x-python",
   "name": "python",
   "nbconvert_exporter": "python",
   "pygments_lexer": "ipython3",
   "version": "3.7.6"
  }
 },
 "nbformat": 4,
 "nbformat_minor": 4
}
