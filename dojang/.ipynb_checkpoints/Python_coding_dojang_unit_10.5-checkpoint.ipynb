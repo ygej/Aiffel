{
 "cells": [
  {
   "cell_type": "markdown",
   "metadata": {},
   "source": [
    "# 파이썬 코딩도장 - 10.5 심사문제: 연습문제:  range로 튜플 만들기\n",
    "### 표준 입력으로 정수가 입력됩니다. range의 시작하는 숫자는 -10, 끝나는 숫자는 10이며 입력된 정수만큼 증가하는 숫자가 들어가도록 튜플을 만들고, 해당 튜플을 출력하는 프로그램을 만드세요(input에서 안내 문자열은 출력하지 않아야 합니다).\n",
    "\n",
    "\n",
    "\n",
    "### 입력)\n",
    "```\n",
    "2\n",
    "```\n",
    "\n",
    "### 예)\n",
    "\n",
    "#### 결과)\n",
    "```\n",
    "(-10, -8, -6, -4, -2, 0, 2, 4, 6, 8)\n",
    "```"
   ]
  },
  {
   "cell_type": "code",
   "execution_count": 1,
   "metadata": {},
   "outputs": [
    {
     "name": "stdout",
     "output_type": "stream",
     "text": [
      "3\n",
      "(-10, -7, -4, -1, 2, 5, 8)\n"
     ]
    }
   ],
   "source": [
    "# 정답\n",
    "num = int(input())\n",
    "print(tuple(range(-10,10,num)))"
   ]
  },
  {
   "cell_type": "code",
   "execution_count": null,
   "metadata": {},
   "outputs": [],
   "source": []
  }
 ],
 "metadata": {
  "kernelspec": {
   "display_name": "Python 3",
   "language": "python",
   "name": "python3"
  },
  "language_info": {
   "codemirror_mode": {
    "name": "ipython",
    "version": 3
   },
   "file_extension": ".py",
   "mimetype": "text/x-python",
   "name": "python",
   "nbconvert_exporter": "python",
   "pygments_lexer": "ipython3",
   "version": "3.7.6"
  }
 },
 "nbformat": 4,
 "nbformat_minor": 4
}
