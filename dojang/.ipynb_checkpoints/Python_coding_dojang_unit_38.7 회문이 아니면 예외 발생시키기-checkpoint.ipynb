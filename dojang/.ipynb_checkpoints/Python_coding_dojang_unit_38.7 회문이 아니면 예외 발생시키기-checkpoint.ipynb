{
 "cells": [
  {
   "cell_type": "markdown",
   "metadata": {},
   "source": [
    "# 파이썬 코딩도장 - 38.7 심사문제: 회문이 아니면 예외 발생시키기\n",
    "### 표준 입력으로 문자열이 입력됩니다. 다음 소스 코드를 완성하여 입력된 문자열이 회문이면 문자열을 그대로 출력하고, 회문이 아니면 '회문이 아닙니다.'를 출력하도록 만드세요. palindrome 함수와 NotPalindromeError 예외를 작성해야 합니다.\n",
    "\n",
    "### 입력)\n",
    "```\n",
    "________________\n",
    "________________\n",
    "________________\n",
    "________________\n",
    "________________\n",
    "________________\n",
    "________________\n",
    "\n",
    "try:\n",
    "    word = input()\n",
    "    palindrome(word)\n",
    "except NotPalindromeError as e:\n",
    "    print(e)\n",
    "```\n",
    "\n",
    "### 예)\n",
    "```\n",
    "hello\n",
    "```\n",
    "#### 결과)\n",
    "```\n",
    "회문이 아닙니다.\n",
    "\n",
    "```"
   ]
  },
  {
   "cell_type": "code",
   "execution_count": 64,
   "metadata": {},
   "outputs": [
    {
     "name": "stdout",
     "output_type": "stream",
     "text": [
      "hello\n",
      "회문이 아닙니다.\n"
     ]
    }
   ],
   "source": [
    "# 정답\n",
    "\n",
    "class NotPalindromeError(Exception):\n",
    "    def __init__(self):\n",
    "        super().__init__('회문이 아닙니다.')\n",
    "        \n",
    "def palindrome(row):\n",
    "    if list(row) != list(reversed(list(row))):\n",
    "        raise NotPalindromeError\n",
    "    else:\n",
    "        print(row)\n",
    "\n",
    "try:\n",
    "    word = input()\n",
    "    palindrome(word)\n",
    "    \n",
    "except NotPalindromeError as e:\n",
    "    print(e)"
   ]
  },
  {
   "cell_type": "code",
   "execution_count": null,
   "metadata": {},
   "outputs": [],
   "source": []
  }
 ],
 "metadata": {
  "kernelspec": {
   "display_name": "Python 3",
   "language": "python",
   "name": "python3"
  },
  "language_info": {
   "codemirror_mode": {
    "name": "ipython",
    "version": 3
   },
   "file_extension": ".py",
   "mimetype": "text/x-python",
   "name": "python",
   "nbconvert_exporter": "python",
   "pygments_lexer": "ipython3",
   "version": "3.7.6"
  }
 },
 "nbformat": 4,
 "nbformat_minor": 4
}
