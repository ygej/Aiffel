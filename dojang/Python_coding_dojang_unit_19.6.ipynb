{
 "cells": [
  {
   "cell_type": "markdown",
   "metadata": {},
   "source": [
    "# 파이썬 코딩도장 - 19.6 심사문제: 산 모양으로 별 출력하기\n",
    "### 표준 입력으로 삼각형의 높이가 입력됩니다. 입력된 높이만큼 산 모양으로 별을 출력하는 프로그램을 만드세요(input에서 안내 문자열은 출력하지 않아야 합니다). 이때 출력 결과는 예제와 정확히 일치해야 합니다. 모양이 같더라도 공백이나 빈 줄이 더 들어가면 틀린 것으로 처리됩니다.\n",
    "\n",
    "\n",
    "### 입력)\n",
    "```\n",
    "\n",
    "_____________________\n",
    "_____________________\n",
    "_____________________\n",
    "_____________________\n",
    "_____________________\n",
    "\n",
    "```\n",
    "\n",
    "### 예)\n",
    "```\n",
    "3\n",
    "```\n",
    "#### 결과)\n",
    "```\n",
    "  *\n",
    " ***\n",
    "*****\n",
    "\n",
    "```"
   ]
  },
  {
   "cell_type": "code",
   "execution_count": 1,
   "metadata": {},
   "outputs": [
    {
     "name": "stdout",
     "output_type": "stream",
     "text": [
      "3\n",
      "  *\n",
      " ***\n",
      "*****\n"
     ]
    }
   ],
   "source": [
    "# 정답\n",
    "\n",
    "num = int(input())\n",
    "\n",
    "for i in range(1, num+1):\n",
    "    for j in range(1, num+1):\n",
    "        if j == i:\n",
    "            print(' '*(num-j), end='')\n",
    "            print('*'*((j*2)-1), end='')\n",
    "    print()"
   ]
  },
  {
   "cell_type": "code",
   "execution_count": null,
   "metadata": {},
   "outputs": [],
   "source": []
  }
 ],
 "metadata": {
  "kernelspec": {
   "display_name": "Python 3",
   "language": "python",
   "name": "python3"
  },
  "language_info": {
   "codemirror_mode": {
    "name": "ipython",
    "version": 3
   },
   "file_extension": ".py",
   "mimetype": "text/x-python",
   "name": "python",
   "nbconvert_exporter": "python",
   "pygments_lexer": "ipython3",
   "version": "3.7.6"
  }
 },
 "nbformat": 4,
 "nbformat_minor": 4
}
