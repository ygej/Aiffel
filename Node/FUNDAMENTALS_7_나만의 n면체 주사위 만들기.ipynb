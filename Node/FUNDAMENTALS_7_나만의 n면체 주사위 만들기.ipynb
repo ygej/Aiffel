{
 "cells": [
  {
   "cell_type": "markdown",
   "metadata": {},
   "source": [
    "# FUNDAMENTALS_7_나만의 n면체 주사위 만들기"
   ]
  },
  {
   "cell_type": "code",
   "execution_count": 25,
   "metadata": {},
   "outputs": [],
   "source": [
    "import random\n",
    "\n",
    "class Funnydice:\n",
    "    # 면의 개수\n",
    "    number_list = []\n",
    "    def throw(self, n):\n",
    "        number_list = [i for i in range(1, n+1)]\n",
    "        random_number = random.randint(number_list[0],number_list[len(number_list)-1])\n",
    "        \n",
    "        return random_number"
   ]
  },
  {
   "cell_type": "code",
   "execution_count": 26,
   "metadata": {},
   "outputs": [],
   "source": [
    "a = Funnydice()"
   ]
  },
  {
   "cell_type": "code",
   "execution_count": 27,
   "metadata": {},
   "outputs": [
    {
     "data": {
      "text/plain": [
       "6"
      ]
     },
     "execution_count": 27,
     "metadata": {},
     "output_type": "execute_result"
    }
   ],
   "source": [
    "a.throw(10)"
   ]
  },
  {
   "cell_type": "code",
   "execution_count": 40,
   "metadata": {},
   "outputs": [
    {
     "name": "stdout",
     "output_type": "stream",
     "text": [
      "주사위 면의 개수를 입력하세요: 10\n",
      "행운의 숫자는? 4\n"
     ]
    }
   ],
   "source": [
    "# funnydice.py\n",
    "\n",
    "from random import randrange\n",
    "\n",
    "class FunnyDice:\n",
    "    def __init__(self, n=6):\n",
    "        self.n = n\n",
    "        self.options = list(range(1, n+1))\n",
    "        self.index = randrange(0, self.n)\n",
    "        self.val = self.options[self.index]\n",
    "    \n",
    "    def throw(self):\n",
    "        self.index = randrange(0, self.n)\n",
    "        self.val = self.options[self.index]\n",
    "    \n",
    "    def gettingval(self):\n",
    "        return self.val\n",
    "    \n",
    "    def settingval(self, val):\n",
    "        if valnum <= self.n:\n",
    "            self.val = valnum\n",
    "        else:\n",
    "            print(\"주사위에 없는 숫자입니다. 주사위는 1 ~ {0}까지 있습니다. \".format(self.n))\n",
    "            raise error\n",
    "\n",
    "def get_inputs():\n",
    "    n = int(input(\"주사위 면의 개수를 입력하세요: \"))\n",
    "    return n\n",
    "\n",
    "def main():\n",
    "    n = get_inputs()\n",
    "    mydice = FunnyDice(n)\n",
    "    mydice.throw()\n",
    "    print(\"행운의 숫자는? {0}\".format(mydice.gettingval()))\n",
    "\n",
    "if __name__ == '__main__':\n",
    "    main()"
   ]
  }
 ],
 "metadata": {
  "kernelspec": {
   "display_name": "aiffel",
   "language": "python",
   "name": "aiffel"
  },
  "language_info": {
   "codemirror_mode": {
    "name": "ipython",
    "version": 3
   },
   "file_extension": ".py",
   "mimetype": "text/x-python",
   "name": "python",
   "nbconvert_exporter": "python",
   "pygments_lexer": "ipython3",
   "version": "3.7.8"
  }
 },
 "nbformat": 4,
 "nbformat_minor": 4
}
