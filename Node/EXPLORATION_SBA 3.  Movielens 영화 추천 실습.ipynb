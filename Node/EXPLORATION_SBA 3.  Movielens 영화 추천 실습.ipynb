{
 "cells": [
  {
   "cell_type": "markdown",
   "metadata": {},
   "source": [
    "# EXPLORATION_SBA 3.  Movielens 영화 추천 실습"
   ]
  },
  {
   "cell_type": "markdown",
   "metadata": {},
   "source": [
    "이번에 활용할 데이터셋은 추천시스템의 MNIST라고 부를만한 Movielens 데이터입니다.\n",
    "---\n",
    "* 유저가 영화에 대해 평점을 매긴 데이터가 데이터 크기 별로 있습니다. MovieLens 1M Dataset 사용을 권장합니다.\n",
    "* 별점 데이터는 대표적인 explicit 데이터입니다. 하지만 implicit 데이터로 간주하고 테스트해볼 수 있습니다.\n",
    "* 별점을 시청횟수로 해석해서 생각하겠습니다.\n",
    "* 또한 유저가 3점 미만으로 준 데이터는 선호하지 않는다고 가정하고 제외하겠습니다."
   ]
  },
  {
   "cell_type": "markdown",
   "metadata": {},
   "source": [
    "# Import Library (step.01)"
   ]
  },
  {
   "cell_type": "code",
   "execution_count": 1,
   "metadata": {},
   "outputs": [],
   "source": [
    "import pandas as pd\n",
    "import pandas_profiling\n",
    "import numpy as np\n",
    "import seaborn as sns\n",
    "import matplotlib.pyplot as plt\n",
    "pd.options.display.max_rows=150\n",
    "%matplotlib inline\n",
    "import os"
   ]
  },
  {
   "cell_type": "markdown",
   "metadata": {},
   "source": [
    "# Load Data (step.02)"
   ]
  },
  {
   "cell_type": "code",
   "execution_count": 2,
   "metadata": {},
   "outputs": [
    {
     "data": {
      "text/html": [
       "<div>\n",
       "<style scoped>\n",
       "    .dataframe tbody tr th:only-of-type {\n",
       "        vertical-align: middle;\n",
       "    }\n",
       "\n",
       "    .dataframe tbody tr th {\n",
       "        vertical-align: top;\n",
       "    }\n",
       "\n",
       "    .dataframe thead th {\n",
       "        text-align: right;\n",
       "    }\n",
       "</style>\n",
       "<table border=\"1\" class=\"dataframe\">\n",
       "  <thead>\n",
       "    <tr style=\"text-align: right;\">\n",
       "      <th></th>\n",
       "      <th>user_id</th>\n",
       "      <th>movie_id</th>\n",
       "      <th>rating</th>\n",
       "      <th>timestamp</th>\n",
       "    </tr>\n",
       "  </thead>\n",
       "  <tbody>\n",
       "    <tr>\n",
       "      <th>0</th>\n",
       "      <td>1</td>\n",
       "      <td>1193</td>\n",
       "      <td>5</td>\n",
       "      <td>978300760</td>\n",
       "    </tr>\n",
       "    <tr>\n",
       "      <th>1</th>\n",
       "      <td>1</td>\n",
       "      <td>661</td>\n",
       "      <td>3</td>\n",
       "      <td>978302109</td>\n",
       "    </tr>\n",
       "    <tr>\n",
       "      <th>2</th>\n",
       "      <td>1</td>\n",
       "      <td>914</td>\n",
       "      <td>3</td>\n",
       "      <td>978301968</td>\n",
       "    </tr>\n",
       "    <tr>\n",
       "      <th>3</th>\n",
       "      <td>1</td>\n",
       "      <td>3408</td>\n",
       "      <td>4</td>\n",
       "      <td>978300275</td>\n",
       "    </tr>\n",
       "    <tr>\n",
       "      <th>4</th>\n",
       "      <td>1</td>\n",
       "      <td>2355</td>\n",
       "      <td>5</td>\n",
       "      <td>978824291</td>\n",
       "    </tr>\n",
       "  </tbody>\n",
       "</table>\n",
       "</div>"
      ],
      "text/plain": [
       "   user_id  movie_id  rating  timestamp\n",
       "0        1      1193       5  978300760\n",
       "1        1       661       3  978302109\n",
       "2        1       914       3  978301968\n",
       "3        1      3408       4  978300275\n",
       "4        1      2355       5  978824291"
      ]
     },
     "execution_count": 2,
     "metadata": {},
     "output_type": "execute_result"
    }
   ],
   "source": [
    "rating_file_path=os.getenv('HOME') + '/aiffel/recommendata_iu/data/ml-1m/ratings.dat'\n",
    "ratings_cols = ['user_id', 'movie_id', 'rating', 'timestamp']\n",
    "ratings = pd.read_csv(rating_file_path, sep='::', names=ratings_cols, engine='python')\n",
    "orginal_data_size = len(ratings)\n",
    "ratings.head()"
   ]
  },
  {
   "cell_type": "markdown",
   "metadata": {},
   "source": [
    "# Data Processing (step.03)"
   ]
  },
  {
   "cell_type": "code",
   "execution_count": 3,
   "metadata": {},
   "outputs": [
    {
     "name": "stdout",
     "output_type": "stream",
     "text": [
      "orginal_data_size: 1000209, filtered_data_size: 836478\n",
      "Ratio of Remaining Data is 83.63%\n"
     ]
    }
   ],
   "source": [
    "# 3점 이상만 남깁니다.\n",
    "ratings = ratings[ratings['rating']>=3]\n",
    "filtered_data_size = len(ratings)\n",
    "\n",
    "print(f'orginal_data_size: {orginal_data_size}, filtered_data_size: {filtered_data_size}')\n",
    "print(f'Ratio of Remaining Data is {filtered_data_size / orginal_data_size:.2%}')"
   ]
  },
  {
   "cell_type": "code",
   "execution_count": 4,
   "metadata": {},
   "outputs": [
    {
     "name": "stdout",
     "output_type": "stream",
     "text": [
      "(836478, 4)\n"
     ]
    },
    {
     "data": {
      "text/html": [
       "<div>\n",
       "<style scoped>\n",
       "    .dataframe tbody tr th:only-of-type {\n",
       "        vertical-align: middle;\n",
       "    }\n",
       "\n",
       "    .dataframe tbody tr th {\n",
       "        vertical-align: top;\n",
       "    }\n",
       "\n",
       "    .dataframe thead th {\n",
       "        text-align: right;\n",
       "    }\n",
       "</style>\n",
       "<table border=\"1\" class=\"dataframe\">\n",
       "  <thead>\n",
       "    <tr style=\"text-align: right;\">\n",
       "      <th></th>\n",
       "      <th>user_id</th>\n",
       "      <th>movie_id</th>\n",
       "      <th>play_count</th>\n",
       "      <th>timestamp</th>\n",
       "    </tr>\n",
       "  </thead>\n",
       "  <tbody>\n",
       "    <tr>\n",
       "      <th>0</th>\n",
       "      <td>1</td>\n",
       "      <td>1193</td>\n",
       "      <td>5</td>\n",
       "      <td>978300760</td>\n",
       "    </tr>\n",
       "    <tr>\n",
       "      <th>1</th>\n",
       "      <td>1</td>\n",
       "      <td>661</td>\n",
       "      <td>3</td>\n",
       "      <td>978302109</td>\n",
       "    </tr>\n",
       "    <tr>\n",
       "      <th>2</th>\n",
       "      <td>1</td>\n",
       "      <td>914</td>\n",
       "      <td>3</td>\n",
       "      <td>978301968</td>\n",
       "    </tr>\n",
       "    <tr>\n",
       "      <th>3</th>\n",
       "      <td>1</td>\n",
       "      <td>3408</td>\n",
       "      <td>4</td>\n",
       "      <td>978300275</td>\n",
       "    </tr>\n",
       "    <tr>\n",
       "      <th>4</th>\n",
       "      <td>1</td>\n",
       "      <td>2355</td>\n",
       "      <td>5</td>\n",
       "      <td>978824291</td>\n",
       "    </tr>\n",
       "  </tbody>\n",
       "</table>\n",
       "</div>"
      ],
      "text/plain": [
       "   user_id  movie_id  play_count  timestamp\n",
       "0        1      1193           5  978300760\n",
       "1        1       661           3  978302109\n",
       "2        1       914           3  978301968\n",
       "3        1      3408           4  978300275\n",
       "4        1      2355           5  978824291"
      ]
     },
     "execution_count": 4,
     "metadata": {},
     "output_type": "execute_result"
    }
   ],
   "source": [
    "# rating 컬럼의 이름을 play_count로 바꿉니다.\n",
    "ratings.rename(columns={'rating':'play_count'}, inplace=True)\n",
    "print(ratings.shape)\n",
    "ratings.head()"
   ]
  },
  {
   "cell_type": "code",
   "execution_count": 5,
   "metadata": {},
   "outputs": [
    {
     "name": "stdout",
     "output_type": "stream",
     "text": [
      "(3883, 3)\n"
     ]
    },
    {
     "data": {
      "text/html": [
       "<div>\n",
       "<style scoped>\n",
       "    .dataframe tbody tr th:only-of-type {\n",
       "        vertical-align: middle;\n",
       "    }\n",
       "\n",
       "    .dataframe tbody tr th {\n",
       "        vertical-align: top;\n",
       "    }\n",
       "\n",
       "    .dataframe thead th {\n",
       "        text-align: right;\n",
       "    }\n",
       "</style>\n",
       "<table border=\"1\" class=\"dataframe\">\n",
       "  <thead>\n",
       "    <tr style=\"text-align: right;\">\n",
       "      <th></th>\n",
       "      <th>movie_id</th>\n",
       "      <th>title</th>\n",
       "      <th>genre</th>\n",
       "    </tr>\n",
       "  </thead>\n",
       "  <tbody>\n",
       "    <tr>\n",
       "      <th>0</th>\n",
       "      <td>1</td>\n",
       "      <td>Toy Story (1995)</td>\n",
       "      <td>Animation|Children's|Comedy</td>\n",
       "    </tr>\n",
       "    <tr>\n",
       "      <th>1</th>\n",
       "      <td>2</td>\n",
       "      <td>Jumanji (1995)</td>\n",
       "      <td>Adventure|Children's|Fantasy</td>\n",
       "    </tr>\n",
       "    <tr>\n",
       "      <th>2</th>\n",
       "      <td>3</td>\n",
       "      <td>Grumpier Old Men (1995)</td>\n",
       "      <td>Comedy|Romance</td>\n",
       "    </tr>\n",
       "    <tr>\n",
       "      <th>3</th>\n",
       "      <td>4</td>\n",
       "      <td>Waiting to Exhale (1995)</td>\n",
       "      <td>Comedy|Drama</td>\n",
       "    </tr>\n",
       "    <tr>\n",
       "      <th>4</th>\n",
       "      <td>5</td>\n",
       "      <td>Father of the Bride Part II (1995)</td>\n",
       "      <td>Comedy</td>\n",
       "    </tr>\n",
       "  </tbody>\n",
       "</table>\n",
       "</div>"
      ],
      "text/plain": [
       "   movie_id                               title                         genre\n",
       "0         1                    Toy Story (1995)   Animation|Children's|Comedy\n",
       "1         2                      Jumanji (1995)  Adventure|Children's|Fantasy\n",
       "2         3             Grumpier Old Men (1995)                Comedy|Romance\n",
       "3         4            Waiting to Exhale (1995)                  Comedy|Drama\n",
       "4         5  Father of the Bride Part II (1995)                        Comedy"
      ]
     },
     "execution_count": 5,
     "metadata": {},
     "output_type": "execute_result"
    }
   ],
   "source": [
    "# 영화 제목을 보기 위해 메타 데이터를 읽어옵니다.\n",
    "movie_file_path=os.getenv('HOME') + '/aiffel/recommendata_iu/data/ml-1m/movies.dat'\n",
    "cols = ['movie_id', 'title', 'genre'] \n",
    "movies = pd.read_csv(movie_file_path, sep='::', names=cols, engine='python')\n",
    "print(movies.shape)\n",
    "movies.head()"
   ]
  },
  {
   "cell_type": "code",
   "execution_count": 6,
   "metadata": {},
   "outputs": [
    {
     "name": "stdout",
     "output_type": "stream",
     "text": [
      "(836478, 6)\n"
     ]
    },
    {
     "data": {
      "text/html": [
       "<div>\n",
       "<style scoped>\n",
       "    .dataframe tbody tr th:only-of-type {\n",
       "        vertical-align: middle;\n",
       "    }\n",
       "\n",
       "    .dataframe tbody tr th {\n",
       "        vertical-align: top;\n",
       "    }\n",
       "\n",
       "    .dataframe thead th {\n",
       "        text-align: right;\n",
       "    }\n",
       "</style>\n",
       "<table border=\"1\" class=\"dataframe\">\n",
       "  <thead>\n",
       "    <tr style=\"text-align: right;\">\n",
       "      <th></th>\n",
       "      <th>user_id</th>\n",
       "      <th>movie_id</th>\n",
       "      <th>play_count</th>\n",
       "      <th>timestamp</th>\n",
       "      <th>title</th>\n",
       "      <th>genre</th>\n",
       "    </tr>\n",
       "  </thead>\n",
       "  <tbody>\n",
       "    <tr>\n",
       "      <th>0</th>\n",
       "      <td>1</td>\n",
       "      <td>1193</td>\n",
       "      <td>5</td>\n",
       "      <td>978300760</td>\n",
       "      <td>One Flew Over the Cuckoo's Nest (1975)</td>\n",
       "      <td>Drama</td>\n",
       "    </tr>\n",
       "    <tr>\n",
       "      <th>1</th>\n",
       "      <td>2</td>\n",
       "      <td>1193</td>\n",
       "      <td>5</td>\n",
       "      <td>978298413</td>\n",
       "      <td>One Flew Over the Cuckoo's Nest (1975)</td>\n",
       "      <td>Drama</td>\n",
       "    </tr>\n",
       "    <tr>\n",
       "      <th>2</th>\n",
       "      <td>12</td>\n",
       "      <td>1193</td>\n",
       "      <td>4</td>\n",
       "      <td>978220179</td>\n",
       "      <td>One Flew Over the Cuckoo's Nest (1975)</td>\n",
       "      <td>Drama</td>\n",
       "    </tr>\n",
       "    <tr>\n",
       "      <th>3</th>\n",
       "      <td>15</td>\n",
       "      <td>1193</td>\n",
       "      <td>4</td>\n",
       "      <td>978199279</td>\n",
       "      <td>One Flew Over the Cuckoo's Nest (1975)</td>\n",
       "      <td>Drama</td>\n",
       "    </tr>\n",
       "    <tr>\n",
       "      <th>4</th>\n",
       "      <td>17</td>\n",
       "      <td>1193</td>\n",
       "      <td>5</td>\n",
       "      <td>978158471</td>\n",
       "      <td>One Flew Over the Cuckoo's Nest (1975)</td>\n",
       "      <td>Drama</td>\n",
       "    </tr>\n",
       "  </tbody>\n",
       "</table>\n",
       "</div>"
      ],
      "text/plain": [
       "   user_id  movie_id  play_count  timestamp  \\\n",
       "0        1      1193           5  978300760   \n",
       "1        2      1193           5  978298413   \n",
       "2       12      1193           4  978220179   \n",
       "3       15      1193           4  978199279   \n",
       "4       17      1193           5  978158471   \n",
       "\n",
       "                                    title  genre  \n",
       "0  One Flew Over the Cuckoo's Nest (1975)  Drama  \n",
       "1  One Flew Over the Cuckoo's Nest (1975)  Drama  \n",
       "2  One Flew Over the Cuckoo's Nest (1975)  Drama  \n",
       "3  One Flew Over the Cuckoo's Nest (1975)  Drama  \n",
       "4  One Flew Over the Cuckoo's Nest (1975)  Drama  "
      ]
     },
     "execution_count": 6,
     "metadata": {},
     "output_type": "execute_result"
    }
   ],
   "source": [
    "# ratings 와 movies를 합쳐줍니다.\n",
    "df = pd.merge(ratings, movies, on = 'movie_id') # 'movie_id' 를 기준으로 merge합니다.\n",
    "print(df.shape)\n",
    "df.head()"
   ]
  },
  {
   "cell_type": "markdown",
   "metadata": {},
   "source": [
    "# EDA (step.02)"
   ]
  },
  {
   "cell_type": "code",
   "execution_count": 7,
   "metadata": {},
   "outputs": [],
   "source": [
    "## Data Profiling\n",
    "#profile = df.profile_report()\n",
    "#profile"
   ]
  },
  {
   "cell_type": "markdown",
   "metadata": {},
   "source": [
    "### Columns 분석 (step. 2-1)\n",
    "\n",
    "* user_id: 각 유저의 고유한 id 값입니다. 총 6,039명입니다.\n",
    "* movie_id: 각 영화의 고유한 id 값입니다. 총 3,628편입니다.\n",
    "* play_count: 각 영화에 대한 유저의 별점입니다. 이번 프로젝트에는 재생 횟수로 해석하여 사용합니다. 3회 이하의 수는 제외 했으며,   \n",
    "  4(41.7% / 348,971번), 3(31.2% / 261,196번), 5(27.1% 226,310번) 순으로 분포되어 있습니다.\n",
    "* timestamp 1970년 1월 1일(Universal Time (UTC) of January 1, 1970) 이후의 시간정보\n",
    "* title: 각 영화의 제목\n",
    "* genre: 각 영화의 장르"
   ]
  },
  {
   "cell_type": "markdown",
   "metadata": {},
   "source": [
    "### 가장 인기있는 영화 순위 (step. 2-2)"
   ]
  },
  {
   "cell_type": "code",
   "execution_count": 8,
   "metadata": {},
   "outputs": [
    {
     "data": {
      "text/html": [
       "<div>\n",
       "<style scoped>\n",
       "    .dataframe tbody tr th:only-of-type {\n",
       "        vertical-align: middle;\n",
       "    }\n",
       "\n",
       "    .dataframe tbody tr th {\n",
       "        vertical-align: top;\n",
       "    }\n",
       "\n",
       "    .dataframe thead th {\n",
       "        text-align: right;\n",
       "    }\n",
       "</style>\n",
       "<table border=\"1\" class=\"dataframe\">\n",
       "  <thead>\n",
       "    <tr style=\"text-align: right;\">\n",
       "      <th></th>\n",
       "      <th></th>\n",
       "      <th>play_count</th>\n",
       "    </tr>\n",
       "    <tr>\n",
       "      <th>title</th>\n",
       "      <th>movie_id</th>\n",
       "      <th></th>\n",
       "    </tr>\n",
       "  </thead>\n",
       "  <tbody>\n",
       "    <tr>\n",
       "      <th>American Beauty (1999)</th>\n",
       "      <th>2858</th>\n",
       "      <td>14449</td>\n",
       "    </tr>\n",
       "    <tr>\n",
       "      <th>Star Wars: Episode IV - A New Hope (1977)</th>\n",
       "      <th>260</th>\n",
       "      <td>13178</td>\n",
       "    </tr>\n",
       "    <tr>\n",
       "      <th>Star Wars: Episode V - The Empire Strikes Back (1980)</th>\n",
       "      <th>1196</th>\n",
       "      <td>12648</td>\n",
       "    </tr>\n",
       "    <tr>\n",
       "      <th>Saving Private Ryan (1998)</th>\n",
       "      <th>2028</th>\n",
       "      <td>11348</td>\n",
       "    </tr>\n",
       "    <tr>\n",
       "      <th>Star Wars: Episode VI - Return of the Jedi (1983)</th>\n",
       "      <th>1210</th>\n",
       "      <td>11303</td>\n",
       "    </tr>\n",
       "    <tr>\n",
       "      <th>Raiders of the Lost Ark (1981)</th>\n",
       "      <th>1198</th>\n",
       "      <td>11179</td>\n",
       "    </tr>\n",
       "    <tr>\n",
       "      <th>Silence of the Lambs, The (1991)</th>\n",
       "      <th>593</th>\n",
       "      <td>11096</td>\n",
       "    </tr>\n",
       "    <tr>\n",
       "      <th>Matrix, The (1999)</th>\n",
       "      <th>2571</th>\n",
       "      <td>10903</td>\n",
       "    </tr>\n",
       "    <tr>\n",
       "      <th>Sixth Sense, The (1999)</th>\n",
       "      <th>2762</th>\n",
       "      <td>10703</td>\n",
       "    </tr>\n",
       "    <tr>\n",
       "      <th>Terminator 2: Judgment Day (1991)</th>\n",
       "      <th>589</th>\n",
       "      <td>10513</td>\n",
       "    </tr>\n",
       "    <tr>\n",
       "      <th>Fargo (1996)</th>\n",
       "      <th>608</th>\n",
       "      <td>10465</td>\n",
       "    </tr>\n",
       "    <tr>\n",
       "      <th>Schindler's List (1993)</th>\n",
       "      <th>527</th>\n",
       "      <td>10317</td>\n",
       "    </tr>\n",
       "    <tr>\n",
       "      <th>Braveheart (1995)</th>\n",
       "      <th>110</th>\n",
       "      <td>10125</td>\n",
       "    </tr>\n",
       "    <tr>\n",
       "      <th>Shawshank Redemption, The (1994)</th>\n",
       "      <th>318</th>\n",
       "      <td>10085</td>\n",
       "    </tr>\n",
       "    <tr>\n",
       "      <th>Back to the Future (1985)</th>\n",
       "      <th>1270</th>\n",
       "      <td>10081</td>\n",
       "    </tr>\n",
       "    <tr>\n",
       "      <th>Godfather, The (1972)</th>\n",
       "      <th>858</th>\n",
       "      <td>9965</td>\n",
       "    </tr>\n",
       "    <tr>\n",
       "      <th>Princess Bride, The (1987)</th>\n",
       "      <th>1197</th>\n",
       "      <td>9866</td>\n",
       "    </tr>\n",
       "    <tr>\n",
       "      <th>Jurassic Park (1993)</th>\n",
       "      <th>480</th>\n",
       "      <td>9601</td>\n",
       "    </tr>\n",
       "    <tr>\n",
       "      <th>L.A. Confidential (1997)</th>\n",
       "      <th>1617</th>\n",
       "      <td>9515</td>\n",
       "    </tr>\n",
       "    <tr>\n",
       "      <th>Shakespeare in Love (1998)</th>\n",
       "      <th>2396</th>\n",
       "      <td>9503</td>\n",
       "    </tr>\n",
       "    <tr>\n",
       "      <th>Men in Black (1997)</th>\n",
       "      <th>1580</th>\n",
       "      <td>9057</td>\n",
       "    </tr>\n",
       "    <tr>\n",
       "      <th>Pulp Fiction (1994)</th>\n",
       "      <th>296</th>\n",
       "      <td>9053</td>\n",
       "    </tr>\n",
       "    <tr>\n",
       "      <th>Being John Malkovich (1999)</th>\n",
       "      <th>2997</th>\n",
       "      <td>8964</td>\n",
       "    </tr>\n",
       "    <tr>\n",
       "      <th>Groundhog Day (1993)</th>\n",
       "      <th>1265</th>\n",
       "      <td>8727</td>\n",
       "    </tr>\n",
       "    <tr>\n",
       "      <th>E.T. the Extra-Terrestrial (1982)</th>\n",
       "      <th>1097</th>\n",
       "      <td>8696</td>\n",
       "    </tr>\n",
       "    <tr>\n",
       "      <th>Forrest Gump (1994)</th>\n",
       "      <th>356</th>\n",
       "      <td>8679</td>\n",
       "    </tr>\n",
       "    <tr>\n",
       "      <th>Terminator, The (1984)</th>\n",
       "      <th>1240</th>\n",
       "      <td>8571</td>\n",
       "    </tr>\n",
       "    <tr>\n",
       "      <th>Toy Story (1995)</th>\n",
       "      <th>1</th>\n",
       "      <td>8475</td>\n",
       "    </tr>\n",
       "    <tr>\n",
       "      <th>Ghostbusters (1984)</th>\n",
       "      <th>2716</th>\n",
       "      <td>8282</td>\n",
       "    </tr>\n",
       "    <tr>\n",
       "      <th>Alien (1979)</th>\n",
       "      <th>1214</th>\n",
       "      <td>8244</td>\n",
       "    </tr>\n",
       "    <tr>\n",
       "      <th>Fugitive, The (1993)</th>\n",
       "      <th>457</th>\n",
       "      <td>8083</td>\n",
       "    </tr>\n",
       "    <tr>\n",
       "      <th>Usual Suspects, The (1995)</th>\n",
       "      <th>50</th>\n",
       "      <td>7984</td>\n",
       "    </tr>\n",
       "    <tr>\n",
       "      <th>Gladiator (2000)</th>\n",
       "      <th>3578</th>\n",
       "      <td>7675</td>\n",
       "    </tr>\n",
       "    <tr>\n",
       "      <th>Blade Runner (1982)</th>\n",
       "      <th>541</th>\n",
       "      <td>7549</td>\n",
       "    </tr>\n",
       "    <tr>\n",
       "      <th>One Flew Over the Cuckoo's Nest (1975)</th>\n",
       "      <th>1193</th>\n",
       "      <td>7496</td>\n",
       "    </tr>\n",
       "    <tr>\n",
       "      <th>Aliens (1986)</th>\n",
       "      <th>1200</th>\n",
       "      <td>7335</td>\n",
       "    </tr>\n",
       "    <tr>\n",
       "      <th>Casablanca (1942)</th>\n",
       "      <th>912</th>\n",
       "      <td>7287</td>\n",
       "    </tr>\n",
       "    <tr>\n",
       "      <th>Godfather: Part II, The (1974)</th>\n",
       "      <th>1221</th>\n",
       "      <td>7257</td>\n",
       "    </tr>\n",
       "    <tr>\n",
       "      <th>Stand by Me (1986)</th>\n",
       "      <th>1259</th>\n",
       "      <td>7202</td>\n",
       "    </tr>\n",
       "    <tr>\n",
       "      <th>Wizard of Oz, The (1939)</th>\n",
       "      <th>919</th>\n",
       "      <td>7182</td>\n",
       "    </tr>\n",
       "    <tr>\n",
       "      <th>GoodFellas (1990)</th>\n",
       "      <th>1213</th>\n",
       "      <td>6978</td>\n",
       "    </tr>\n",
       "    <tr>\n",
       "      <th>Total Recall (1990)</th>\n",
       "      <th>2916</th>\n",
       "      <td>6971</td>\n",
       "    </tr>\n",
       "    <tr>\n",
       "      <th>Star Wars: Episode I - The Phantom Menace (1999)</th>\n",
       "      <th>2628</th>\n",
       "      <td>6881</td>\n",
       "    </tr>\n",
       "    <tr>\n",
       "      <th>Monty Python and the Holy Grail (1974)</th>\n",
       "      <th>1136</th>\n",
       "      <td>6819</td>\n",
       "    </tr>\n",
       "    <tr>\n",
       "      <th>Jaws (1975)</th>\n",
       "      <th>1387</th>\n",
       "      <td>6762</td>\n",
       "    </tr>\n",
       "    <tr>\n",
       "      <th>Die Hard (1988)</th>\n",
       "      <th>1036</th>\n",
       "      <td>6737</td>\n",
       "    </tr>\n",
       "    <tr>\n",
       "      <th>2001: A Space Odyssey (1968)</th>\n",
       "      <th>924</th>\n",
       "      <td>6731</td>\n",
       "    </tr>\n",
       "    <tr>\n",
       "      <th>Airplane! (1980)</th>\n",
       "      <th>2791</th>\n",
       "      <td>6626</td>\n",
       "    </tr>\n",
       "    <tr>\n",
       "      <th>Indiana Jones and the Last Crusade (1989)</th>\n",
       "      <th>1291</th>\n",
       "      <td>6622</td>\n",
       "    </tr>\n",
       "    <tr>\n",
       "      <th>Hunt for Red October, The (1990)</th>\n",
       "      <th>1610</th>\n",
       "      <td>6576</td>\n",
       "    </tr>\n",
       "    <tr>\n",
       "      <th>Toy Story 2 (1999)</th>\n",
       "      <th>3114</th>\n",
       "      <td>6574</td>\n",
       "    </tr>\n",
       "    <tr>\n",
       "      <th>Babe (1995)</th>\n",
       "      <th>34</th>\n",
       "      <td>6519</td>\n",
       "    </tr>\n",
       "    <tr>\n",
       "      <th>Bug's Life, A (1998)</th>\n",
       "      <th>2355</th>\n",
       "      <td>6383</td>\n",
       "    </tr>\n",
       "    <tr>\n",
       "      <th>Good Will Hunting (1997)</th>\n",
       "      <th>1704</th>\n",
       "      <td>6370</td>\n",
       "    </tr>\n",
       "    <tr>\n",
       "      <th>Who Framed Roger Rabbit? (1988)</th>\n",
       "      <th>2987</th>\n",
       "      <td>6279</td>\n",
       "    </tr>\n",
       "    <tr>\n",
       "      <th>Galaxy Quest (1999)</th>\n",
       "      <th>3175</th>\n",
       "      <td>6251</td>\n",
       "    </tr>\n",
       "    <tr>\n",
       "      <th>When Harry Met Sally... (1989)</th>\n",
       "      <th>1307</th>\n",
       "      <td>6237</td>\n",
       "    </tr>\n",
       "    <tr>\n",
       "      <th>Lethal Weapon (1987)</th>\n",
       "      <th>2000</th>\n",
       "      <td>6142</td>\n",
       "    </tr>\n",
       "    <tr>\n",
       "      <th>Abyss, The (1989)</th>\n",
       "      <th>1127</th>\n",
       "      <td>6038</td>\n",
       "    </tr>\n",
       "    <tr>\n",
       "      <th>Dr. Strangelove or: How I Learned to Stop Worrying and Love the Bomb (1963)</th>\n",
       "      <th>750</th>\n",
       "      <td>6001</td>\n",
       "    </tr>\n",
       "    <tr>\n",
       "      <th>Ferris Bueller's Day Off (1986)</th>\n",
       "      <th>2918</th>\n",
       "      <td>5955</td>\n",
       "    </tr>\n",
       "    <tr>\n",
       "      <th>Butch Cassidy and the Sundance Kid (1969)</th>\n",
       "      <th>1304</th>\n",
       "      <td>5924</td>\n",
       "    </tr>\n",
       "    <tr>\n",
       "      <th>Amadeus (1984)</th>\n",
       "      <th>1225</th>\n",
       "      <td>5801</td>\n",
       "    </tr>\n",
       "    <tr>\n",
       "      <th>Election (1999)</th>\n",
       "      <th>2599</th>\n",
       "      <td>5800</td>\n",
       "    </tr>\n",
       "    <tr>\n",
       "      <th>Breakfast Club, The (1985)</th>\n",
       "      <th>1968</th>\n",
       "      <td>5773</td>\n",
       "    </tr>\n",
       "    <tr>\n",
       "      <th>North by Northwest (1959)</th>\n",
       "      <th>908</th>\n",
       "      <td>5737</td>\n",
       "    </tr>\n",
       "    <tr>\n",
       "      <th>Twelve Monkeys (1995)</th>\n",
       "      <th>32</th>\n",
       "      <td>5729</td>\n",
       "    </tr>\n",
       "    <tr>\n",
       "      <th>Close Encounters of the Third Kind (1977)</th>\n",
       "      <th>3471</th>\n",
       "      <td>5683</td>\n",
       "    </tr>\n",
       "    <tr>\n",
       "      <th>Fight Club (1999)</th>\n",
       "      <th>2959</th>\n",
       "      <td>5681</td>\n",
       "    </tr>\n",
       "    <tr>\n",
       "      <th>Christmas Story, A (1983)</th>\n",
       "      <th>2804</th>\n",
       "      <td>5625</td>\n",
       "    </tr>\n",
       "    <tr>\n",
       "      <th>Raising Arizona (1987)</th>\n",
       "      <th>1394</th>\n",
       "      <td>5570</td>\n",
       "    </tr>\n",
       "    <tr>\n",
       "      <th>X-Men (2000)</th>\n",
       "      <th>3793</th>\n",
       "      <td>5566</td>\n",
       "    </tr>\n",
       "    <tr>\n",
       "      <th>Big (1988)</th>\n",
       "      <th>2797</th>\n",
       "      <td>5558</td>\n",
       "    </tr>\n",
       "    <tr>\n",
       "      <th>Independence Day (ID4) (1996)</th>\n",
       "      <th>780</th>\n",
       "      <td>5533</td>\n",
       "    </tr>\n",
       "    <tr>\n",
       "      <th>Speed (1994)</th>\n",
       "      <th>377</th>\n",
       "      <td>5520</td>\n",
       "    </tr>\n",
       "    <tr>\n",
       "      <th>Dances with Wolves (1990)</th>\n",
       "      <th>590</th>\n",
       "      <td>5453</td>\n",
       "    </tr>\n",
       "    <tr>\n",
       "      <th>As Good As It Gets (1997)</th>\n",
       "      <th>1784</th>\n",
       "      <td>5435</td>\n",
       "    </tr>\n",
       "    <tr>\n",
       "      <th>Star Trek: The Wrath of Khan (1982)</th>\n",
       "      <th>1374</th>\n",
       "      <td>5416</td>\n",
       "    </tr>\n",
       "    <tr>\n",
       "      <th>Annie Hall (1977)</th>\n",
       "      <th>1230</th>\n",
       "      <td>5386</td>\n",
       "    </tr>\n",
       "    <tr>\n",
       "      <th>Clerks (1994)</th>\n",
       "      <th>223</th>\n",
       "      <td>5366</td>\n",
       "    </tr>\n",
       "    <tr>\n",
       "      <th>Rain Man (1988)</th>\n",
       "      <th>1961</th>\n",
       "      <td>5305</td>\n",
       "    </tr>\n",
       "    <tr>\n",
       "      <th>Graduate, The (1967)</th>\n",
       "      <th>1247</th>\n",
       "      <td>5287</td>\n",
       "    </tr>\n",
       "    <tr>\n",
       "      <th>Psycho (1960)</th>\n",
       "      <th>1219</th>\n",
       "      <td>5239</td>\n",
       "    </tr>\n",
       "    <tr>\n",
       "      <th>High Fidelity (2000)</th>\n",
       "      <th>3481</th>\n",
       "      <td>5202</td>\n",
       "    </tr>\n",
       "    <tr>\n",
       "      <th>There's Something About Mary (1998)</th>\n",
       "      <th>1923</th>\n",
       "      <td>5126</td>\n",
       "    </tr>\n",
       "    <tr>\n",
       "      <th>Blues Brothers, The (1980)</th>\n",
       "      <th>1220</th>\n",
       "      <td>5109</td>\n",
       "    </tr>\n",
       "    <tr>\n",
       "      <th>Fish Called Wanda, A (1988)</th>\n",
       "      <th>1079</th>\n",
       "      <td>5095</td>\n",
       "    </tr>\n",
       "    <tr>\n",
       "      <th>Taxi Driver (1976)</th>\n",
       "      <th>111</th>\n",
       "      <td>5089</td>\n",
       "    </tr>\n",
       "    <tr>\n",
       "      <th>Titanic (1997)</th>\n",
       "      <th>1721</th>\n",
       "      <td>5088</td>\n",
       "    </tr>\n",
       "    <tr>\n",
       "      <th>Chinatown (1974)</th>\n",
       "      <th>1252</th>\n",
       "      <td>5081</td>\n",
       "    </tr>\n",
       "    <tr>\n",
       "      <th>Reservoir Dogs (1992)</th>\n",
       "      <th>1089</th>\n",
       "      <td>5079</td>\n",
       "    </tr>\n",
       "    <tr>\n",
       "      <th>Full Metal Jacket (1987)</th>\n",
       "      <th>1222</th>\n",
       "      <td>5067</td>\n",
       "    </tr>\n",
       "    <tr>\n",
       "      <th>Apollo 13 (1995)</th>\n",
       "      <th>150</th>\n",
       "      <td>5027</td>\n",
       "    </tr>\n",
       "    <tr>\n",
       "      <th>Beetlejuice (1988)</th>\n",
       "      <th>2174</th>\n",
       "      <td>4993</td>\n",
       "    </tr>\n",
       "    <tr>\n",
       "      <th>Young Frankenstein (1974)</th>\n",
       "      <th>1278</th>\n",
       "      <td>4986</td>\n",
       "    </tr>\n",
       "    <tr>\n",
       "      <th>Chicken Run (2000)</th>\n",
       "      <th>3751</th>\n",
       "      <td>4976</td>\n",
       "    </tr>\n",
       "    <tr>\n",
       "      <th>Thelma &amp; Louise (1991)</th>\n",
       "      <th>3418</th>\n",
       "      <td>4959</td>\n",
       "    </tr>\n",
       "    <tr>\n",
       "      <th>Contact (1997)</th>\n",
       "      <th>1584</th>\n",
       "      <td>4957</td>\n",
       "    </tr>\n",
       "    <tr>\n",
       "      <th>Edward Scissorhands (1990)</th>\n",
       "      <th>2291</th>\n",
       "      <td>4954</td>\n",
       "    </tr>\n",
       "    <tr>\n",
       "      <th>Green Mile, The (1999)</th>\n",
       "      <th>3147</th>\n",
       "      <td>4952</td>\n",
       "    </tr>\n",
       "  </tbody>\n",
       "</table>\n",
       "</div>"
      ],
      "text/plain": [
       "                                                             play_count\n",
       "title                                              movie_id            \n",
       "American Beauty (1999)                             2858           14449\n",
       "Star Wars: Episode IV - A New Hope (1977)          260            13178\n",
       "Star Wars: Episode V - The Empire Strikes Back ... 1196           12648\n",
       "Saving Private Ryan (1998)                         2028           11348\n",
       "Star Wars: Episode VI - Return of the Jedi (1983)  1210           11303\n",
       "Raiders of the Lost Ark (1981)                     1198           11179\n",
       "Silence of the Lambs, The (1991)                   593            11096\n",
       "Matrix, The (1999)                                 2571           10903\n",
       "Sixth Sense, The (1999)                            2762           10703\n",
       "Terminator 2: Judgment Day (1991)                  589            10513\n",
       "Fargo (1996)                                       608            10465\n",
       "Schindler's List (1993)                            527            10317\n",
       "Braveheart (1995)                                  110            10125\n",
       "Shawshank Redemption, The (1994)                   318            10085\n",
       "Back to the Future (1985)                          1270           10081\n",
       "Godfather, The (1972)                              858             9965\n",
       "Princess Bride, The (1987)                         1197            9866\n",
       "Jurassic Park (1993)                               480             9601\n",
       "L.A. Confidential (1997)                           1617            9515\n",
       "Shakespeare in Love (1998)                         2396            9503\n",
       "Men in Black (1997)                                1580            9057\n",
       "Pulp Fiction (1994)                                296             9053\n",
       "Being John Malkovich (1999)                        2997            8964\n",
       "Groundhog Day (1993)                               1265            8727\n",
       "E.T. the Extra-Terrestrial (1982)                  1097            8696\n",
       "Forrest Gump (1994)                                356             8679\n",
       "Terminator, The (1984)                             1240            8571\n",
       "Toy Story (1995)                                   1               8475\n",
       "Ghostbusters (1984)                                2716            8282\n",
       "Alien (1979)                                       1214            8244\n",
       "Fugitive, The (1993)                               457             8083\n",
       "Usual Suspects, The (1995)                         50              7984\n",
       "Gladiator (2000)                                   3578            7675\n",
       "Blade Runner (1982)                                541             7549\n",
       "One Flew Over the Cuckoo's Nest (1975)             1193            7496\n",
       "Aliens (1986)                                      1200            7335\n",
       "Casablanca (1942)                                  912             7287\n",
       "Godfather: Part II, The (1974)                     1221            7257\n",
       "Stand by Me (1986)                                 1259            7202\n",
       "Wizard of Oz, The (1939)                           919             7182\n",
       "GoodFellas (1990)                                  1213            6978\n",
       "Total Recall (1990)                                2916            6971\n",
       "Star Wars: Episode I - The Phantom Menace (1999)   2628            6881\n",
       "Monty Python and the Holy Grail (1974)             1136            6819\n",
       "Jaws (1975)                                        1387            6762\n",
       "Die Hard (1988)                                    1036            6737\n",
       "2001: A Space Odyssey (1968)                       924             6731\n",
       "Airplane! (1980)                                   2791            6626\n",
       "Indiana Jones and the Last Crusade (1989)          1291            6622\n",
       "Hunt for Red October, The (1990)                   1610            6576\n",
       "Toy Story 2 (1999)                                 3114            6574\n",
       "Babe (1995)                                        34              6519\n",
       "Bug's Life, A (1998)                               2355            6383\n",
       "Good Will Hunting (1997)                           1704            6370\n",
       "Who Framed Roger Rabbit? (1988)                    2987            6279\n",
       "Galaxy Quest (1999)                                3175            6251\n",
       "When Harry Met Sally... (1989)                     1307            6237\n",
       "Lethal Weapon (1987)                               2000            6142\n",
       "Abyss, The (1989)                                  1127            6038\n",
       "Dr. Strangelove or: How I Learned to Stop Worry... 750             6001\n",
       "Ferris Bueller's Day Off (1986)                    2918            5955\n",
       "Butch Cassidy and the Sundance Kid (1969)          1304            5924\n",
       "Amadeus (1984)                                     1225            5801\n",
       "Election (1999)                                    2599            5800\n",
       "Breakfast Club, The (1985)                         1968            5773\n",
       "North by Northwest (1959)                          908             5737\n",
       "Twelve Monkeys (1995)                              32              5729\n",
       "Close Encounters of the Third Kind (1977)          3471            5683\n",
       "Fight Club (1999)                                  2959            5681\n",
       "Christmas Story, A (1983)                          2804            5625\n",
       "Raising Arizona (1987)                             1394            5570\n",
       "X-Men (2000)                                       3793            5566\n",
       "Big (1988)                                         2797            5558\n",
       "Independence Day (ID4) (1996)                      780             5533\n",
       "Speed (1994)                                       377             5520\n",
       "Dances with Wolves (1990)                          590             5453\n",
       "As Good As It Gets (1997)                          1784            5435\n",
       "Star Trek: The Wrath of Khan (1982)                1374            5416\n",
       "Annie Hall (1977)                                  1230            5386\n",
       "Clerks (1994)                                      223             5366\n",
       "Rain Man (1988)                                    1961            5305\n",
       "Graduate, The (1967)                               1247            5287\n",
       "Psycho (1960)                                      1219            5239\n",
       "High Fidelity (2000)                               3481            5202\n",
       "There's Something About Mary (1998)                1923            5126\n",
       "Blues Brothers, The (1980)                         1220            5109\n",
       "Fish Called Wanda, A (1988)                        1079            5095\n",
       "Taxi Driver (1976)                                 111             5089\n",
       "Titanic (1997)                                     1721            5088\n",
       "Chinatown (1974)                                   1252            5081\n",
       "Reservoir Dogs (1992)                              1089            5079\n",
       "Full Metal Jacket (1987)                           1222            5067\n",
       "Apollo 13 (1995)                                   150             5027\n",
       "Beetlejuice (1988)                                 2174            4993\n",
       "Young Frankenstein (1974)                          1278            4986\n",
       "Chicken Run (2000)                                 3751            4976\n",
       "Thelma & Louise (1991)                             3418            4959\n",
       "Contact (1997)                                     1584            4957\n",
       "Edward Scissorhands (1990)                         2291            4954\n",
       "Green Mile, The (1999)                             3147            4952"
      ]
     },
     "execution_count": 8,
     "metadata": {},
     "output_type": "execute_result"
    }
   ],
   "source": [
    "top_mv_df = df.pivot_table(index = ['title', 'movie_id'], values = 'play_count', aggfunc = np.sum)\n",
    "top_mv_df = top_mv_df.sort_values(by = 'play_count', ascending=False) # 'play_count' 기준으로 내림차순 정렬\n",
    "top_mv_df.head(100)"
   ]
  },
  {
   "cell_type": "markdown",
   "metadata": {},
   "source": [
    "## Build Recommender System (step. 3)"
   ]
  },
  {
   "cell_type": "markdown",
   "metadata": {},
   "source": [
    "### 임의의 유저 데이터 만들기 (step. 3-1)"
   ]
  },
  {
   "cell_type": "code",
   "execution_count": 9,
   "metadata": {},
   "outputs": [
    {
     "data": {
      "text/plain": [
       "[['Saving Private Ryan (1998)'],\n",
       " ['Shawshank Redemption, The (1994)'],\n",
       " ['Forrest Gump (1994)'],\n",
       " ['Good Will Hunting (1997)'],\n",
       " ['Titanic (1997)']]"
      ]
     },
     "execution_count": 9,
     "metadata": {},
     "output_type": "execute_result"
    }
   ],
   "source": [
    "# 선호하는 영화 5편을 선택합니다.\n",
    "my_favorite = [2028, 318, 356, 1704,1721]\n",
    "\n",
    "all_movie_name = []\n",
    "for i in my_favorite:\n",
    "    movie_name = list(df[df['movie_id'] == i]['title'].unique())\n",
    "    all_movie_name.append(movie_name)\n",
    "all_movie_name"
   ]
  },
  {
   "cell_type": "code",
   "execution_count": 10,
   "metadata": {},
   "outputs": [
    {
     "data": {
      "text/html": [
       "<div>\n",
       "<style scoped>\n",
       "    .dataframe tbody tr th:only-of-type {\n",
       "        vertical-align: middle;\n",
       "    }\n",
       "\n",
       "    .dataframe tbody tr th {\n",
       "        vertical-align: top;\n",
       "    }\n",
       "\n",
       "    .dataframe thead th {\n",
       "        text-align: right;\n",
       "    }\n",
       "</style>\n",
       "<table border=\"1\" class=\"dataframe\">\n",
       "  <thead>\n",
       "    <tr style=\"text-align: right;\">\n",
       "      <th></th>\n",
       "      <th>user_id</th>\n",
       "      <th>movie_id</th>\n",
       "      <th>play_count</th>\n",
       "    </tr>\n",
       "  </thead>\n",
       "  <tbody>\n",
       "    <tr>\n",
       "      <th>0</th>\n",
       "      <td>yg</td>\n",
       "      <td>2028</td>\n",
       "      <td>5</td>\n",
       "    </tr>\n",
       "    <tr>\n",
       "      <th>1</th>\n",
       "      <td>yg</td>\n",
       "      <td>318</td>\n",
       "      <td>5</td>\n",
       "    </tr>\n",
       "    <tr>\n",
       "      <th>2</th>\n",
       "      <td>yg</td>\n",
       "      <td>356</td>\n",
       "      <td>5</td>\n",
       "    </tr>\n",
       "    <tr>\n",
       "      <th>3</th>\n",
       "      <td>yg</td>\n",
       "      <td>1704</td>\n",
       "      <td>5</td>\n",
       "    </tr>\n",
       "    <tr>\n",
       "      <th>4</th>\n",
       "      <td>yg</td>\n",
       "      <td>1721</td>\n",
       "      <td>5</td>\n",
       "    </tr>\n",
       "  </tbody>\n",
       "</table>\n",
       "</div>"
      ],
      "text/plain": [
       "  user_id  movie_id  play_count\n",
       "0      yg      2028           5\n",
       "1      yg       318           5\n",
       "2      yg       356           5\n",
       "3      yg      1704           5\n",
       "4      yg      1721           5"
      ]
     },
     "execution_count": 10,
     "metadata": {},
     "output_type": "execute_result"
    }
   ],
   "source": [
    "# 'yg'라는 user_id가 위 영화를 5번씩 봤다고 가정하겠습니다.\n",
    "my_movielist = pd.DataFrame({'user_id': ['yg']*5,'movie_id':my_favorite,'play_count':[5]*5})\n",
    "\n",
    "my_movielist"
   ]
  },
  {
   "cell_type": "code",
   "execution_count": 11,
   "metadata": {},
   "outputs": [
    {
     "name": "stdout",
     "output_type": "stream",
     "text": [
      "(836483, 4)\n"
     ]
    },
    {
     "data": {
      "text/html": [
       "<div>\n",
       "<style scoped>\n",
       "    .dataframe tbody tr th:only-of-type {\n",
       "        vertical-align: middle;\n",
       "    }\n",
       "\n",
       "    .dataframe tbody tr th {\n",
       "        vertical-align: top;\n",
       "    }\n",
       "\n",
       "    .dataframe thead th {\n",
       "        text-align: right;\n",
       "    }\n",
       "</style>\n",
       "<table border=\"1\" class=\"dataframe\">\n",
       "  <thead>\n",
       "    <tr style=\"text-align: right;\">\n",
       "      <th></th>\n",
       "      <th>user_id</th>\n",
       "      <th>movie_id</th>\n",
       "      <th>play_count</th>\n",
       "      <th>timestamp</th>\n",
       "    </tr>\n",
       "  </thead>\n",
       "  <tbody>\n",
       "    <tr>\n",
       "      <th>0</th>\n",
       "      <td>yg</td>\n",
       "      <td>2028</td>\n",
       "      <td>5</td>\n",
       "      <td>NaN</td>\n",
       "    </tr>\n",
       "    <tr>\n",
       "      <th>1</th>\n",
       "      <td>yg</td>\n",
       "      <td>318</td>\n",
       "      <td>5</td>\n",
       "      <td>NaN</td>\n",
       "    </tr>\n",
       "    <tr>\n",
       "      <th>2</th>\n",
       "      <td>yg</td>\n",
       "      <td>356</td>\n",
       "      <td>5</td>\n",
       "      <td>NaN</td>\n",
       "    </tr>\n",
       "    <tr>\n",
       "      <th>3</th>\n",
       "      <td>yg</td>\n",
       "      <td>1704</td>\n",
       "      <td>5</td>\n",
       "      <td>NaN</td>\n",
       "    </tr>\n",
       "    <tr>\n",
       "      <th>4</th>\n",
       "      <td>yg</td>\n",
       "      <td>1721</td>\n",
       "      <td>5</td>\n",
       "      <td>NaN</td>\n",
       "    </tr>\n",
       "  </tbody>\n",
       "</table>\n",
       "</div>"
      ],
      "text/plain": [
       "  user_id  movie_id  play_count  timestamp\n",
       "0      yg      2028           5        NaN\n",
       "1      yg       318           5        NaN\n",
       "2      yg       356           5        NaN\n",
       "3      yg      1704           5        NaN\n",
       "4      yg      1721           5        NaN"
      ]
     },
     "execution_count": 11,
     "metadata": {},
     "output_type": "execute_result"
    }
   ],
   "source": [
    "# ratings 와 my_playlist 를 합쳐줍니다.\n",
    "if not ratings.isin({'user_id':['yg']})['user_id'].any():  # user_id에 6041 이라는 데이터가 없다면\n",
    "    ratings = ratings.append(my_movielist)                           # 위에 임의로 만든 my_movielist 데이터를 추가해 줍니다. \n",
    "\n",
    "print(ratings.shape)\n",
    "ratings[ratings['user_id'] == 'yg']"
   ]
  },
  {
   "cell_type": "code",
   "execution_count": 12,
   "metadata": {},
   "outputs": [
    {
     "name": "stdout",
     "output_type": "stream",
     "text": [
      "(836483, 6)\n"
     ]
    },
    {
     "data": {
      "text/html": [
       "<div>\n",
       "<style scoped>\n",
       "    .dataframe tbody tr th:only-of-type {\n",
       "        vertical-align: middle;\n",
       "    }\n",
       "\n",
       "    .dataframe tbody tr th {\n",
       "        vertical-align: top;\n",
       "    }\n",
       "\n",
       "    .dataframe thead th {\n",
       "        text-align: right;\n",
       "    }\n",
       "</style>\n",
       "<table border=\"1\" class=\"dataframe\">\n",
       "  <thead>\n",
       "    <tr style=\"text-align: right;\">\n",
       "      <th></th>\n",
       "      <th>user_id</th>\n",
       "      <th>movie_id</th>\n",
       "      <th>play_count</th>\n",
       "      <th>timestamp</th>\n",
       "      <th>title</th>\n",
       "      <th>genre</th>\n",
       "    </tr>\n",
       "  </thead>\n",
       "  <tbody>\n",
       "    <tr>\n",
       "      <th>0</th>\n",
       "      <td>1</td>\n",
       "      <td>1193</td>\n",
       "      <td>5</td>\n",
       "      <td>978300760.0</td>\n",
       "      <td>One Flew Over the Cuckoo's Nest (1975)</td>\n",
       "      <td>Drama</td>\n",
       "    </tr>\n",
       "    <tr>\n",
       "      <th>1</th>\n",
       "      <td>2</td>\n",
       "      <td>1193</td>\n",
       "      <td>5</td>\n",
       "      <td>978298413.0</td>\n",
       "      <td>One Flew Over the Cuckoo's Nest (1975)</td>\n",
       "      <td>Drama</td>\n",
       "    </tr>\n",
       "    <tr>\n",
       "      <th>2</th>\n",
       "      <td>12</td>\n",
       "      <td>1193</td>\n",
       "      <td>4</td>\n",
       "      <td>978220179.0</td>\n",
       "      <td>One Flew Over the Cuckoo's Nest (1975)</td>\n",
       "      <td>Drama</td>\n",
       "    </tr>\n",
       "    <tr>\n",
       "      <th>3</th>\n",
       "      <td>15</td>\n",
       "      <td>1193</td>\n",
       "      <td>4</td>\n",
       "      <td>978199279.0</td>\n",
       "      <td>One Flew Over the Cuckoo's Nest (1975)</td>\n",
       "      <td>Drama</td>\n",
       "    </tr>\n",
       "    <tr>\n",
       "      <th>4</th>\n",
       "      <td>17</td>\n",
       "      <td>1193</td>\n",
       "      <td>5</td>\n",
       "      <td>978158471.0</td>\n",
       "      <td>One Flew Over the Cuckoo's Nest (1975)</td>\n",
       "      <td>Drama</td>\n",
       "    </tr>\n",
       "  </tbody>\n",
       "</table>\n",
       "</div>"
      ],
      "text/plain": [
       "  user_id  movie_id  play_count    timestamp  \\\n",
       "0       1      1193           5  978300760.0   \n",
       "1       2      1193           5  978298413.0   \n",
       "2      12      1193           4  978220179.0   \n",
       "3      15      1193           4  978199279.0   \n",
       "4      17      1193           5  978158471.0   \n",
       "\n",
       "                                    title  genre  \n",
       "0  One Flew Over the Cuckoo's Nest (1975)  Drama  \n",
       "1  One Flew Over the Cuckoo's Nest (1975)  Drama  \n",
       "2  One Flew Over the Cuckoo's Nest (1975)  Drama  \n",
       "3  One Flew Over the Cuckoo's Nest (1975)  Drama  \n",
       "4  One Flew Over the Cuckoo's Nest (1975)  Drama  "
      ]
     },
     "execution_count": 12,
     "metadata": {},
     "output_type": "execute_result"
    }
   ],
   "source": [
    "# ratings 와 movies를 합쳐줍니다.\n",
    "df = pd.merge(ratings, movies, on = 'movie_id') # 'movie_id' 를 기준으로 merge합니다.\n",
    "print(df.shape)\n",
    "df.head()"
   ]
  },
  {
   "cell_type": "markdown",
   "metadata": {},
   "source": [
    "### CSR matrix (step. 3-2)"
   ]
  },
  {
   "cell_type": "code",
   "execution_count": 13,
   "metadata": {},
   "outputs": [],
   "source": [
    "# ratings의 user_id,movie_id에 누락된 값이 있습니다. 몇몇 영화는 아예 play_count에 포함되지 않았기 때문입니다. CSR matrix를 만들 때,\n",
    "# 'row index exceeds matrix dimensions' 오류가 발생함으로, user_id, movie_id를 초기화하여 다시 값을 부여하겠습니다.\n",
    "\n",
    "user_idx_to_unique = {v: k for k, v in enumerate(df.user_id.unique())}\n",
    "movie_idx_to_unique = {v: k for k, v in enumerate(df.movie_id.unique())}"
   ]
  },
  {
   "cell_type": "code",
   "execution_count": 14,
   "metadata": {},
   "outputs": [],
   "source": [
    "temp_user_data = df.user_id.map(user_idx_to_unique.get).dropna()\n",
    "temp_movie_data = df.movie_id.map(movie_idx_to_unique.get).dropna()"
   ]
  },
  {
   "cell_type": "code",
   "execution_count": 15,
   "metadata": {},
   "outputs": [],
   "source": [
    "df.user_id = temp_user_data\n",
    "df.movie_id = temp_movie_data"
   ]
  },
  {
   "cell_type": "code",
   "execution_count": 16,
   "metadata": {},
   "outputs": [
    {
     "data": {
      "text/plain": [
       "<6040x3628 sparse matrix of type '<class 'numpy.longlong'>'\n",
       "\twith 836483 stored elements in Compressed Sparse Row format>"
      ]
     },
     "execution_count": 16,
     "metadata": {},
     "output_type": "execute_result"
    }
   ],
   "source": [
    "from scipy.sparse import csr_matrix\n",
    "num_user = df['user_id'].nunique()\n",
    "num_movie = df['movie_id'].nunique()\n",
    "\n",
    "csr_data = csr_matrix((df.play_count, (df.user_id, df.movie_id)), shape= (num_user, num_movie))\n",
    "csr_data"
   ]
  },
  {
   "cell_type": "markdown",
   "metadata": {},
   "source": [
    "### MF model (step. 3-3)"
   ]
  },
  {
   "cell_type": "code",
   "execution_count": 44,
   "metadata": {},
   "outputs": [],
   "source": [
    "from implicit.als import AlternatingLeastSquares\n",
    "\n",
    "os.environ['OPENBLAS_NUM_THREADS']='1'\n",
    "os.environ['KMP_DUPLICATE_LIB_OK']='True'\n",
    "os.environ['MKL_NUM_THREADS']='1'"
   ]
  },
  {
   "cell_type": "code",
   "execution_count": 45,
   "metadata": {},
   "outputs": [
    {
     "data": {
      "application/vnd.jupyter.widget-view+json": {
       "model_id": "81d4456d12c54e029e3c7f30890fab5e",
       "version_major": 2,
       "version_minor": 0
      },
      "text/plain": [
       "HBox(children=(HTML(value=''), FloatProgress(value=0.0, max=15.0), HTML(value='')))"
      ]
     },
     "metadata": {},
     "output_type": "display_data"
    },
    {
     "name": "stdout",
     "output_type": "stream",
     "text": [
      "\n"
     ]
    }
   ],
   "source": [
    "# Implicit AlternatingLeastSquares 모델의 선언\n",
    "als_model = AlternatingLeastSquares(factors=100, regularization=0.01, use_gpu=False, iterations=15, dtype=np.float32)\n",
    "\n",
    "# als 모델은 input으로 (item X user 꼴의 matrix를 받기 때문에 Transpose해줍니다.)\n",
    "csr_data_transpose = csr_data.T\n",
    "csr_data_transpose\n",
    "\n",
    "# 모델 훈련\n",
    "als_model.fit(csr_data_transpose)"
   ]
  },
  {
   "cell_type": "code",
   "execution_count": 46,
   "metadata": {},
   "outputs": [
    {
     "data": {
      "text/plain": [
       "1941"
      ]
     },
     "execution_count": 46,
     "metadata": {},
     "output_type": "execute_result"
    }
   ],
   "source": [
    "movie_idx_to_unique[9]"
   ]
  },
  {
   "cell_type": "code",
   "execution_count": 47,
   "metadata": {},
   "outputs": [
    {
     "data": {
      "text/plain": [
       "[]"
      ]
     },
     "execution_count": 47,
     "metadata": {},
     "output_type": "execute_result"
    }
   ],
   "source": [
    "list(df[df['movie_id'] == i]['title'].unique())"
   ]
  },
  {
   "cell_type": "code",
   "execution_count": 48,
   "metadata": {},
   "outputs": [
    {
     "data": {
      "text/plain": [
       "[['Jean de Florette (1986)'],\n",
       " ['Rosencrantz and Guildenstern Are Dead (1990)'],\n",
       " ['Legends of the Fall (1994)'],\n",
       " ['Karate Kid, Part II, The (1986)'],\n",
       " [\"Man Bites Dog (C'est arriv� pr�s de chez vous) (1992)\"]]"
      ]
     },
     "execution_count": 48,
     "metadata": {},
     "output_type": "execute_result"
    }
   ],
   "source": [
    "# 선호하는 영화 5편을 선택합니다.\n",
    "my_favorite = [2028, 318, 356, 1704,1721]\n",
    "\n",
    "all_movie_name = []\n",
    "for i in my_favorite:\n",
    "    movie_name = list(df[df['movie_id'] == i]['title'].unique())\n",
    "    all_movie_name.append(movie_name)\n",
    "all_movie_name"
   ]
  },
  {
   "cell_type": "code",
   "execution_count": 49,
   "metadata": {},
   "outputs": [],
   "source": [
    "# 선호하는 영화의 movie_id 값을 확인합니다.\n",
    "my_favorite = ['Saving Private Ryan (1998)',\n",
    "               'Shawshank Redemption, The (1994)',\n",
    "               'Forrest Gump (1994)',\n",
    "               'Good Will Hunting (1997)',\n",
    "               'Titanic (1997)']"
   ]
  },
  {
   "cell_type": "code",
   "execution_count": 50,
   "metadata": {},
   "outputs": [
    {
     "data": {
      "text/plain": [
       "[[48], [157], [160], [248], [27]]"
      ]
     },
     "execution_count": 50,
     "metadata": {},
     "output_type": "execute_result"
    }
   ],
   "source": [
    "# 선호하는 5가지 영화 중 하나와 그 외의 영화 하나를 골라 훈련된 모델이 예측한 나의 선호도를 파악해봅시다.\n",
    "\n",
    "# 선호하는 영화의 movie_id 값을 확인합니다.\n",
    "my_favorite = ['Saving Private Ryan (1998)',\n",
    "               'Shawshank Redemption, The (1994)',\n",
    "               'Forrest Gump (1994)',\n",
    "               'Good Will Hunting (1997)',\n",
    "               'Titanic (1997)']\n",
    "\n",
    "all_movie_id = []\n",
    "for i in my_favorite:\n",
    "    movie_id = list(df[df['title'] == i]['movie_id'].unique())\n",
    "    all_movie_id.append(movie_id)\n",
    "all_movie_id"
   ]
  },
  {
   "cell_type": "code",
   "execution_count": 51,
   "metadata": {},
   "outputs": [],
   "source": [
    "# 훈련된 모델이 'Saving Private Ryan (1998)'을 예측한 나의 선호도를 파악해봅시다.\n",
    "yg, movie_48 = user_idx_to_unique['yg'], 48\n",
    "yg_vector, movie_48_vector = als_model.user_factors[yg], als_model.item_factors[movie_48]"
   ]
  },
  {
   "cell_type": "code",
   "execution_count": 52,
   "metadata": {},
   "outputs": [
    {
     "data": {
      "text/plain": [
       "array([ 0.7056371 ,  0.01878149, -0.6062156 ,  0.24621682, -1.0354201 ,\n",
       "       -0.62352437, -0.38490838, -0.2927726 ,  0.3726907 ,  0.03147785,\n",
       "        1.2144166 ,  0.14594801,  0.13477975,  0.7436724 ,  0.19090833,\n",
       "        0.04729424, -0.7352171 , -0.16699345,  0.7663506 ,  0.72034013,\n",
       "        0.32039195, -0.6981637 , -0.2126419 ,  0.0833796 ,  0.07509883,\n",
       "        0.315905  ,  0.29925123,  1.2491441 , -0.274804  , -0.43643996,\n",
       "       -0.08533525,  0.44366524,  0.77571386,  0.4692348 , -0.59908444,\n",
       "        0.20558098, -0.26049158, -0.15914434, -0.5019346 ,  0.41659722,\n",
       "       -0.06663659,  0.20074189, -0.4628734 , -0.5808983 , -1.5754986 ,\n",
       "       -0.46126136, -0.5474153 , -0.07387185,  0.05066966, -0.05717289,\n",
       "        0.25771812, -0.4621772 ,  0.68580794,  0.19390503, -0.0493006 ,\n",
       "        0.16248679, -0.36225525, -0.58672434, -0.3406426 , -0.2776535 ,\n",
       "       -0.5017942 ,  1.0440989 ,  0.09267075, -0.1388248 , -0.42532215,\n",
       "       -0.76017797,  1.0658377 ,  0.62706363, -1.1421101 ,  0.78087467,\n",
       "        0.13658704,  0.0621681 ,  0.7358139 ,  0.4934539 ,  0.08608833,\n",
       "       -0.9100708 ,  0.9968794 ,  0.76499385, -0.56947184, -0.08651128,\n",
       "        0.780046  ,  0.7295982 ,  0.07646848,  0.29055417, -0.7475201 ,\n",
       "        0.6369758 , -0.16017932,  0.5452085 , -0.70108074, -0.16774927,\n",
       "        0.33968922,  0.36538503, -1.0360613 , -0.7642239 ,  0.50266665,\n",
       "        0.01129433,  0.13035534,  0.3583828 , -0.67388   , -0.03876055],\n",
       "      dtype=float32)"
      ]
     },
     "execution_count": 52,
     "metadata": {},
     "output_type": "execute_result"
    }
   ],
   "source": [
    "yg_vector"
   ]
  },
  {
   "cell_type": "code",
   "execution_count": 53,
   "metadata": {},
   "outputs": [
    {
     "data": {
      "text/plain": [
       "array([-0.00788096, -0.01702356,  0.00445285,  0.03500699, -0.0438008 ,\n",
       "       -0.00368862, -0.00532075, -0.00082582, -0.00153709, -0.00149346,\n",
       "        0.06771555,  0.01899575, -0.00145737, -0.00294687,  0.0289432 ,\n",
       "        0.01639673,  0.0051317 , -0.00842828,  0.0369563 ,  0.02233652,\n",
       "        0.00225186, -0.00606768, -0.02160966, -0.0212702 ,  0.02491342,\n",
       "        0.01597309, -0.008429  ,  0.01901294, -0.03184878,  0.01149685,\n",
       "       -0.00618435,  0.01337116,  0.02102888,  0.01741194, -0.01086812,\n",
       "        0.02056763, -0.01055825,  0.00518152,  0.00094959,  0.03740155,\n",
       "        0.00061631,  0.00472488, -0.00699317,  0.00677558, -0.02593982,\n",
       "       -0.02356737, -0.02425963,  0.00012563,  0.01887548, -0.00216725,\n",
       "        0.00783248, -0.02089721,  0.01218198,  0.00326959,  0.01751155,\n",
       "        0.04910197,  0.00198627,  0.00712294, -0.0090694 ,  0.01962757,\n",
       "       -0.00876296,  0.02348642,  0.02956719, -0.02224245,  0.01197876,\n",
       "       -0.04580485,  0.0112141 ,  0.00926991, -0.0184399 ,  0.04556399,\n",
       "        0.01697203,  0.02468091,  0.01193717,  0.02447569,  0.00320887,\n",
       "       -0.01297791,  0.03714763,  0.01183363, -0.01693678,  0.01566462,\n",
       "        0.02176296,  0.02537286,  0.02468785,  0.0186791 , -0.0364025 ,\n",
       "        0.0070035 , -0.02600804,  0.01648791,  0.00826725, -0.00513241,\n",
       "       -0.00329612,  0.03119529, -0.0172938 , -0.02915725,  0.00755059,\n",
       "        0.01888811,  0.00927832,  0.02022003, -0.02027529, -0.00989604],\n",
       "      dtype=float32)"
      ]
     },
     "execution_count": 53,
     "metadata": {},
     "output_type": "execute_result"
    }
   ],
   "source": [
    "movie_48_vector"
   ]
  },
  {
   "cell_type": "code",
   "execution_count": 54,
   "metadata": {},
   "outputs": [
    {
     "data": {
      "text/plain": [
       "0.7552569"
      ]
     },
     "execution_count": 54,
     "metadata": {},
     "output_type": "execute_result"
    }
   ],
   "source": [
    "# yg와 'Saving Private Ryan (1998)'를 내적하는 코드\n",
    "np.dot(yg_vector, movie_48_vector) # 0.75가 나왔습니다."
   ]
  },
  {
   "cell_type": "code",
   "execution_count": 55,
   "metadata": {},
   "outputs": [],
   "source": [
    "# 훈련된 모델이 'Toy Story (1995)'을 예측한 나의 선호도를 파악해봅시다.\n",
    "\n",
    "toy_story = list(df[df['title'] == 'Toy Story (1995)']['movie_id'].unique())[0]\n",
    "yg, toy_story = user_idx_to_unique['yg'], toy_story\n",
    "yg_vector, toy_story_vector = als_model.user_factors[yg], als_model.item_factors[toy_story]"
   ]
  },
  {
   "cell_type": "code",
   "execution_count": 56,
   "metadata": {},
   "outputs": [
    {
     "data": {
      "text/plain": [
       "0.21786147"
      ]
     },
     "execution_count": 56,
     "metadata": {},
     "output_type": "execute_result"
    }
   ],
   "source": [
    "# yg와 'Toy Story (1995)''를 내적하는 코드\n",
    "np.dot(yg_vector, toy_story_vector) # 0.21이 나왔습니다."
   ]
  },
  {
   "cell_type": "markdown",
   "metadata": {},
   "source": [
    "### 선호하는 영화와 비슷한 영화 추천하기 (step. 3-4)"
   ]
  },
  {
   "cell_type": "code",
   "execution_count": 30,
   "metadata": {},
   "outputs": [
    {
     "data": {
      "text/plain": [
       "[(48, 0.99999994),\n",
       " (87, 0.68024397),\n",
       " (23, 0.6421364),\n",
       " (157, 0.53234047),\n",
       " (487, 0.47492933),\n",
       " (141, 0.40434355),\n",
       " (121, 0.40262982),\n",
       " (248, 0.35293058),\n",
       " (3499, 0.3300507),\n",
       " (269, 0.3244954),\n",
       " (117, 0.3212908),\n",
       " (120, 0.3195239),\n",
       " (222, 0.31543338),\n",
       " (124, 0.31337205),\n",
       " (44, 0.30448502)]"
      ]
     },
     "execution_count": 30,
     "metadata": {},
     "output_type": "execute_result"
    }
   ],
   "source": [
    "favorite_movie = 'Saving Private Ryan (1998)'\n",
    "movie_id = list(df[df['title'] == 'Saving Private Ryan (1998)']['movie_id'].unique())[0]\n",
    "similar_movie = als_model.similar_items(movie_id, N=15)\n",
    "similar_movie"
   ]
  },
  {
   "cell_type": "code",
   "execution_count": 31,
   "metadata": {},
   "outputs": [
    {
     "data": {
      "text/plain": [
       "[['Saving Private Ryan (1998)'],\n",
       " ['Braveheart (1995)'],\n",
       " [\"Schindler's List (1993)\"],\n",
       " ['Shawshank Redemption, The (1994)'],\n",
       " ['Boat, The (Das Boot) (1981)'],\n",
       " ['Fugitive, The (1993)'],\n",
       " ['Silence of the Lambs, The (1991)'],\n",
       " ['Good Will Hunting (1997)'],\n",
       " ['Simon Sez (1999)'],\n",
       " ['GoodFellas (1990)'],\n",
       " ['Star Wars: Episode V - The Empire Strikes Back (1980)'],\n",
       " ['Raiders of the Lost Ark (1981)'],\n",
       " ['Pulp Fiction (1994)'],\n",
       " ['Matrix, The (1999)'],\n",
       " ['Star Wars: Episode IV - A New Hope (1977)']]"
      ]
     },
     "execution_count": 31,
     "metadata": {},
     "output_type": "execute_result"
    }
   ],
   "source": [
    "# movie_id와 title 매칭하기\n",
    "similar_movie_id = []\n",
    "for i in range(len(similar_movie)):\n",
    "    id_num = similar_movie[i][0]\n",
    "    similar_movie_id.append(id_num)\n",
    "\n",
    "all_movie_name = []\n",
    "for i in similar_movie_id:\n",
    "    movie_name = list(df[df['movie_id'] == i]['title'].unique())\n",
    "    all_movie_name.append(movie_name)\n",
    "all_movie_name"
   ]
  },
  {
   "cell_type": "markdown",
   "metadata": {},
   "source": [
    "### 'yg' 유저가 가장 좋아할 만한 영화들 추천 하기(step. 3-5)"
   ]
  },
  {
   "cell_type": "code",
   "execution_count": 32,
   "metadata": {},
   "outputs": [
    {
     "data": {
      "text/plain": [
       "[(23, 0.66614723),\n",
       " (87, 0.5395366),\n",
       " (121, 0.5369754),\n",
       " (39, 0.34662545),\n",
       " (222, 0.338398),\n",
       " (154, 0.3372633),\n",
       " (269, 0.33590078),\n",
       " (38, 0.32747293),\n",
       " (384, 0.31035423),\n",
       " (51, 0.30029082),\n",
       " (323, 0.28430736),\n",
       " (99, 0.26584828),\n",
       " (110, 0.26479778),\n",
       " (22, 0.25117236),\n",
       " (116, 0.24190584),\n",
       " (472, 0.2335277),\n",
       " (385, 0.21754341),\n",
       " (487, 0.20821421),\n",
       " (59, 0.20220762),\n",
       " (141, 0.20010799)]"
      ]
     },
     "execution_count": 32,
     "metadata": {},
     "output_type": "execute_result"
    }
   ],
   "source": [
    "user = user_idx_to_unique['yg']\n",
    "# recommend에서는 user*item CSR Matrix를 받습니다.\n",
    "movie_recommended = als_model.recommend(user, csr_data, N=20, filter_already_liked_items=True)\n",
    "movie_recommended\n",
    "\n",
    "#[movie_idx_to_unique[i[0]] for i in movie_recommended]"
   ]
  },
  {
   "cell_type": "code",
   "execution_count": 33,
   "metadata": {},
   "outputs": [
    {
     "data": {
      "text/plain": [
       "[[\"Schindler's List (1993)\"],\n",
       " ['Braveheart (1995)'],\n",
       " ['Silence of the Lambs, The (1991)'],\n",
       " ['Apollo 13 (1995)'],\n",
       " ['Pulp Fiction (1994)'],\n",
       " ['As Good As It Gets (1997)'],\n",
       " ['GoodFellas (1990)'],\n",
       " ['Sixth Sense, The (1999)'],\n",
       " ['Jerry Maguire (1996)'],\n",
       " ['Fargo (1996)'],\n",
       " ['Dead Man Walking (1995)'],\n",
       " ['American Beauty (1999)'],\n",
       " ['Groundhog Day (1993)'],\n",
       " ['Back to the Future (1985)'],\n",
       " ['Dances with Wolves (1990)'],\n",
       " ['Sling Blade (1996)'],\n",
       " ['Truman Show, The (1998)'],\n",
       " ['Boat, The (Das Boot) (1981)'],\n",
       " ['Few Good Men, A (1992)'],\n",
       " ['Fugitive, The (1993)']]"
      ]
     },
     "execution_count": 33,
     "metadata": {},
     "output_type": "execute_result"
    }
   ],
   "source": [
    "# movie_id와 title 매칭하기\n",
    "movie_recommended_id = []\n",
    "for i in range(len(movie_recommended)):\n",
    "    id_num = movie_recommended[i][0]\n",
    "    movie_recommended_id.append(id_num)\n",
    "\n",
    "all_movie_name = []\n",
    "for i in movie_recommended_id:\n",
    "    movie_name = list(df[df['movie_id'] == i]['title'].unique())\n",
    "    all_movie_name.append(movie_name)\n",
    "all_movie_name"
   ]
  },
  {
   "cell_type": "code",
   "execution_count": 58,
   "metadata": {},
   "outputs": [
    {
     "data": {
      "text/plain": [
       "(0.7420856188407351,\n",
       " [(48, 0.47318643200681354),\n",
       "  (157, 0.12166177741263898),\n",
       "  (248, 0.07349396989801349),\n",
       "  (160, 0.04043885317642806),\n",
       "  (27, 0.03330458634684107)],\n",
       " (array([[ 0.59376028,  0.14999778,  0.09537975, ...,  0.14850649,\n",
       "           0.1432202 ,  0.11533698],\n",
       "         [ 0.08906272,  0.6165167 ,  0.08863428, ...,  0.1102795 ,\n",
       "           0.08741323,  0.11858134],\n",
       "         [ 0.05663271,  0.06895126,  0.58788961, ...,  0.03843249,\n",
       "           0.05449925,  0.10376137],\n",
       "         ...,\n",
       "         [ 0.08817725,  0.0902648 ,  0.04653311, ...,  0.52194639,\n",
       "           0.02961199, -0.00459651],\n",
       "         [ 0.08503846,  0.07537443,  0.05344766, ...,  0.07533781,\n",
       "           0.52793425,  0.01158399],\n",
       "         [ 0.06848252,  0.09040767,  0.08251141, ...,  0.05767719,\n",
       "           0.0625157 ,  0.52504539]]),\n",
       "  False))"
      ]
     },
     "execution_count": 58,
     "metadata": {},
     "output_type": "execute_result"
    }
   ],
   "source": [
    "# 추천에 기여한 정도 알아보기\n",
    "saving_private_ryan= list(df[df['title'] == 'Saving Private Ryan (1998)']['movie_id'].unique())[0]\n",
    "explain = als_model.explain(user, csr_data, itemid=saving_private_ryan)\n",
    "explain"
   ]
  },
  {
   "cell_type": "code",
   "execution_count": null,
   "metadata": {},
   "outputs": [],
   "source": []
  }
 ],
 "metadata": {
  "kernelspec": {
   "display_name": "Python 3",
   "language": "python",
   "name": "python3"
  },
  "language_info": {
   "codemirror_mode": {
    "name": "ipython",
    "version": 3
   },
   "file_extension": ".py",
   "mimetype": "text/x-python",
   "name": "python",
   "nbconvert_exporter": "python",
   "pygments_lexer": "ipython3",
   "version": "3.7.6"
  }
 },
 "nbformat": 4,
 "nbformat_minor": 4
}
