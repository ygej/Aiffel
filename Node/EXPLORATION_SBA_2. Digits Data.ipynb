{
 "cells": [
  {
   "cell_type": "markdown",
   "metadata": {},
   "source": [
    "# EXPLORATION_SBA : 2. Digits Data"
   ]
  },
  {
   "cell_type": "code",
   "execution_count": 70,
   "metadata": {},
   "outputs": [
    {
     "name": "stdout",
     "output_type": "stream",
     "text": [
      "(1797, 64)\n",
      "    0    1    2     3    4    5    6    7    8    9   ...   54   55   56   57  \\\n",
      "0  0.0  0.0  5.0  13.0  9.0  1.0  0.0  0.0  0.0  0.0  ...  0.0  0.0  0.0  0.0   \n",
      "\n",
      "    58    59    60   61   62   63  \n",
      "0  6.0  13.0  10.0  0.0  0.0  0.0  \n",
      "\n",
      "[1 rows x 64 columns]\n"
     ]
    }
   ],
   "source": [
    "# 모듈 import\n",
    "from sklearn.datasets import load_digits\n",
    "from sklearn.model_selection import train_test_split\n",
    "from sklearn.metrics import classification_report\n",
    "from sklearn.metrics import accuracy_score\n",
    "from sklearn.metrics import confusion_matrix\n",
    "\n",
    "import pandas as pd\n",
    "import numpy as np\n",
    "\n",
    "# Data Load\n",
    "digits = load_digits()\n",
    "digits_data = digits.data\n",
    "digits_label = digits.target\n",
    "\n",
    "digits_df = pd.DataFrame(data = digits_data)\n",
    "\n",
    "print(digits_df.shape) # 총 1797개의 데이터\n",
    "print(digits_df.head(1)) # columns = 64, value = 8*8 크기의 이미지 배열 (0~16 사이)"
   ]
  },
  {
   "cell_type": "code",
   "execution_count": 54,
   "metadata": {},
   "outputs": [
    {
     "name": "stdout",
     "output_type": "stream",
     "text": [
      "[0 1 2 3 4 5 6 7 8 9]\n"
     ]
    }
   ],
   "source": [
    "# Target Names 확인\n",
    "# 이미지 배열 값으로 손글쓰로 쓴 각 숫자를 인식해야한다.\n",
    "print(digits.target_names)"
   ]
  },
  {
   "cell_type": "code",
   "execution_count": 38,
   "metadata": {},
   "outputs": [],
   "source": [
    "# Train, Test 데이터 분리\n",
    "X_train, X_test, y_train, y_test = train_test_split(digits_data,\n",
    "                                                   digits_label,\n",
    "                                                   test_size = 0.3,\n",
    "                                                   random_state = 31)"
   ]
  },
  {
   "cell_type": "code",
   "execution_count": 56,
   "metadata": {},
   "outputs": [],
   "source": [
    "#모델 학습\n",
    "\n",
    "#DecisionTree\n",
    "from sklearn.tree import DecisionTreeClassifier\n",
    "\n",
    "d_tree = DecisionTreeClassifier(random_state = 31)\n",
    "\n",
    "#RandomForest\n",
    "from sklearn.ensemble import RandomForestClassifier\n",
    "\n",
    "r_forest = RandomForestClassifier(random_state = 31)\n",
    "\n",
    "# Support Vector Machine\n",
    "from sklearn import svm\n",
    "\n",
    "svm = svm.SVC()\n",
    "\n",
    "# SGD CLassifier\n",
    "from sklearn.linear_model import SGDClassifier\n",
    "\n",
    "sgd = SGDClassifier()\n",
    "\n",
    "# Logistic Regression\n",
    "from sklearn.linear_model import LogisticRegression\n",
    "\n",
    "logistic_r = LogisticRegression()\n",
    "\n",
    "# 전체 모델 리스트\n",
    "model_list = [d_tree, r_forest, svm, sgd, logistic_r]"
   ]
  },
  {
   "cell_type": "code",
   "execution_count": 71,
   "metadata": {},
   "outputs": [
    {
     "name": "stdout",
     "output_type": "stream",
     "text": [
      "0.8462962962962963\n",
      "0.975925925925926\n",
      "0.9888888888888889\n",
      "0.9314814814814815\n",
      "0.9555555555555556\n"
     ]
    },
    {
     "name": "stderr",
     "output_type": "stream",
     "text": [
      "/home/theo/anaconda3/lib/python3.7/site-packages/sklearn/linear_model/_logistic.py:940: ConvergenceWarning: lbfgs failed to converge (status=1):\n",
      "STOP: TOTAL NO. of ITERATIONS REACHED LIMIT.\n",
      "\n",
      "Increase the number of iterations (max_iter) or scale the data as shown in:\n",
      "    https://scikit-learn.org/stable/modules/preprocessing.html\n",
      "Please also refer to the documentation for alternative solver options:\n",
      "    https://scikit-learn.org/stable/modules/linear_model.html#logistic-regression\n",
      "  extra_warning_msg=_LOGISTIC_SOLVER_CONVERGENCE_MSG)\n"
     ]
    }
   ],
   "source": [
    "# 모델 학습 & 평가\n",
    "\n",
    "# 모델 fit & accuracy score를 출력하는 class  \n",
    "\n",
    "class model_fit_train:\n",
    "    \n",
    "    def __init__(self, var):\n",
    "        self.fit = var.fit(X_train, y_train)\n",
    "        self.pred = var.predict(X_test)\n",
    "        \n",
    "    def accuracy(self):\n",
    "        print(accuracy_score(y_test, self.pred))\n",
    "        \n",
    "    def report(self):\n",
    "        print(classification_report(y_test, self.pred))\n",
    "        \n",
    "    def confusion_matrix(self):\n",
    "        print(confusion_matrix(y_test, self.pred))\n",
    "\n",
    "# 모델별 accuracy score 출력        \n",
    "        \n",
    "for i in model_list:\n",
    "    m = model_fit_train(i)\n",
    "    m.accuracy()"
   ]
  },
  {
   "cell_type": "code",
   "execution_count": 75,
   "metadata": {},
   "outputs": [
    {
     "name": "stdout",
     "output_type": "stream",
     "text": [
      "              precision    recall  f1-score   support\n",
      "\n",
      "           0       1.00      0.99      0.99        68\n",
      "           1       0.98      1.00      0.99        55\n",
      "           2       0.98      1.00      0.99        53\n",
      "           3       1.00      0.98      0.99        52\n",
      "           4       0.98      0.97      0.98        61\n",
      "           5       1.00      1.00      1.00        44\n",
      "           6       1.00      1.00      1.00        45\n",
      "           7       1.00      1.00      1.00        58\n",
      "           8       0.96      0.96      0.96        54\n",
      "           9       0.98      1.00      0.99        50\n",
      "\n",
      "    accuracy                           0.99       540\n",
      "   macro avg       0.99      0.99      0.99       540\n",
      "weighted avg       0.99      0.99      0.99       540\n",
      "\n"
     ]
    }
   ],
   "source": [
    "# 모델 선택\n",
    "# accuracy score가 가장 높은 SVM 모델\n",
    "\n",
    "m = model_fit_train(model_list[2])\n",
    "m.report()"
   ]
  },
  {
   "cell_type": "code",
   "execution_count": 77,
   "metadata": {},
   "outputs": [
    {
     "name": "stdout",
     "output_type": "stream",
     "text": [
      "[[67  0  0  0  1  0  0  0  0  0]\n",
      " [ 0 55  0  0  0  0  0  0  0  0]\n",
      " [ 0  0 53  0  0  0  0  0  0  0]\n",
      " [ 0  0  1 51  0  0  0  0  0  0]\n",
      " [ 0  0  0  0 59  0  0  0  2  0]\n",
      " [ 0  0  0  0  0 44  0  0  0  0]\n",
      " [ 0  0  0  0  0  0 45  0  0  0]\n",
      " [ 0  0  0  0  0  0  0 58  0  0]\n",
      " [ 0  1  0  0  0  0  0  0 52  1]\n",
      " [ 0  0  0  0  0  0  0  0  0 50]]\n"
     ]
    }
   ],
   "source": [
    "# confusion_matrix\n",
    "m.confusion_matrix()"
   ]
  },
  {
   "cell_type": "code",
   "execution_count": 78,
   "metadata": {},
   "outputs": [],
   "source": [
    "# 결론: SVM 모델 사용"
   ]
  },
  {
   "cell_type": "code",
   "execution_count": null,
   "metadata": {},
   "outputs": [],
   "source": []
  }
 ],
 "metadata": {
  "kernelspec": {
   "display_name": "Python 3",
   "language": "python",
   "name": "python3"
  },
  "language_info": {
   "codemirror_mode": {
    "name": "ipython",
    "version": 3
   },
   "file_extension": ".py",
   "mimetype": "text/x-python",
   "name": "python",
   "nbconvert_exporter": "python",
   "pygments_lexer": "ipython3",
   "version": "3.7.6"
  }
 },
 "nbformat": 4,
 "nbformat_minor": 4
}
